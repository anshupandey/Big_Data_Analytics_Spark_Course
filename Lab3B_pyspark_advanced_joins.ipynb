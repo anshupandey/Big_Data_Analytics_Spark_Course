{
  "cells": [
    {
      "cell_type": "markdown",
      "source": [
        "## PySpark Advanced Joins, Aggregations, and Optimizations\n",
        "\n",
        "**I. Advanced Joins:**\n",
        "\n",
        "* **Beyond Basic Joins:** Explore join types beyond inner, left, right, and full outer joins.  Consider `left semi join` (returns only the matching rows from the left DataFrame), `left anti join` (returns rows from the left DataFrame that *do not* have a match in the right DataFrame), and `cross join` (Cartesian product of two DataFrames). Understand when each join type is appropriate and its performance implications.\n",
        "\n",
        "* **Join Strategies:**  PySpark's execution engine employs various join strategies (e.g., broadcast hash join, shuffle hash join, sort-merge join) depending on the DataFrame sizes and data distribution.  Grasp how these strategies work.  Broadcast joins are particularly efficient when one DataFrame is small enough to fit into the memory of each executor node.  Shuffle joins require shuffling data across the network, potentially causing performance bottlenecks. Sort-merge joins are effective for ordered datasets.\n",
        "\n",
        "* **Join Optimization:** Optimize join performance by considering data partitioning, data skew (uneven data distribution), and null values. Understand how data skew can lead to inefficient join operations and techniques like salting or pre-aggregation to mitigate its effects.  Evaluate join key data types – choosing appropriate data types can enhance efficiency.\n",
        "\n",
        "* **Multiple Joins:** Understand how to chain multiple joins in a single query and the order of joins impact performance. Analyze the query plan to identify potential bottlenecks with complex join operations.\n",
        "\n",
        "**II. Advanced Aggregations:**\n",
        "\n",
        "* **Window Functions:**  Delve into the power of window functions. These functions perform calculations across a set of rows related to the current row, without grouping the data explicitly. Explore various window functions like `rank`, `dense_rank`, `row_number`, `lag`, `lead`, `avg`, `sum`, etc. Understand partitioning and ordering within window functions.\n",
        "\n",
        "* **Grouping Sets, Rollups, and Cubes:** Expand beyond simple `groupBy` operations. Grouping sets allow you to calculate aggregates for different combinations of grouping columns simultaneously. Rollups generate aggregates at different levels of hierarchy, while cubes provide aggregates for all possible combinations of grouping columns.  These features are beneficial for multi-dimensional analysis.\n",
        "\n",
        "* **User-Defined Aggregation Functions (UDAFs):** Learn how to create custom aggregation functions to perform complex calculations that are not directly available in PySpark. Understand the requirements for writing a UDAF, including handling initialization, merging, and evaluating the final results.\n",
        "\n",
        "* **Aggregation Optimization:**  Explore strategies for optimizing aggregation performance, including data partitioning, data skew mitigation, and using appropriate data structures for intermediate results.\n",
        "\n",
        "\n",
        "**III. Optimizations:**\n",
        "\n",
        "* **Data Serialization and Deserialization:**  Understand how PySpark serializes and deserializes data during processing. Choosing appropriate serialization formats (e.g., Parquet, ORC) can significantly impact performance.  Consider the trade-offs between different serialization methods in terms of speed, compression ratio, and schema evolution capabilities.\n",
        "\n",
        "* **Caching and Persistence:** Leverage caching and persistence mechanisms (e.g., `cache`, `persist`) to store intermediate results in memory or on disk for faster access.  Understand different storage levels and when to use each.   Analyze when caching offers the most benefit and the trade-offs in memory consumption.\n",
        "\n",
        "* **Query Plan Analysis:**  Learn how to analyze the query execution plan (using `explain()`) to identify bottlenecks and opportunities for optimization. Understanding query execution plans will greatly enhance your debugging and tuning abilities.\n",
        "\n",
        "* **Data Skew Handling:**  Address data skew in joins and aggregations.  Strategies like salting, pre-aggregating, and using different join strategies can improve performance significantly in the presence of skewed data.\n",
        "\n",
        "* **Partitioning and Bucketing:**  Learn the differences and the best use cases of partitioning and bucketing.  Optimize data organization to improve query execution by efficiently distributing data across nodes, especially for join operations.\n",
        "\n",
        "* **Broadcast Variables and Accumulators:** Master the efficient use of broadcast variables to send read-only data to all executors without re-serializing it on every task.  Understand accumulators as shared variables for aggregating information from different tasks."
      ],
      "metadata": {
        "id": "S0CJA02GnDGf"
      },
      "id": "S0CJA02GnDGf"
    },
    {
      "cell_type": "code",
      "execution_count": 1,
      "id": "22e91d6b",
      "metadata": {
        "id": "22e91d6b"
      },
      "outputs": [],
      "source": [
        "import pyspark\n",
        "from pyspark.sql import SparkSession\n",
        "from pyspark.sql.functions import col, avg, count, sum, when, lit"
      ]
    },
    {
      "cell_type": "markdown",
      "source": [
        "#Initialize Spark Session\n"
      ],
      "metadata": {
        "id": "0uJcRwrr1gLf"
      },
      "id": "0uJcRwrr1gLf"
    },
    {
      "cell_type": "code",
      "source": [
        "spark = SparkSession.builder.appName(\"Advanced PySpark Operations\").getOrCreate()"
      ],
      "metadata": {
        "id": "F4l1Ueii1a4U"
      },
      "id": "F4l1Ueii1a4U",
      "execution_count": null,
      "outputs": []
    },
    {
      "cell_type": "markdown",
      "source": [
        "#Load Sample Data\n"
      ],
      "metadata": {
        "id": "W2ieXhSz1iye"
      },
      "id": "W2ieXhSz1iye"
    },
    {
      "cell_type": "code",
      "source": [
        "#Sample Customer Data\n",
        "data_customers = [\n",
        "    (\"C001\", \"Alice\", \"NY\"),\n",
        "    (\"C002\", \"Bob\", \"CA\"),\n",
        "    (\"C003\", \"Charlie\", \"TX\"),\n",
        "    (\"C004\", \"David\", \"FL\"),\n",
        "    (\"C005\", \"Eve\", \"NY\")\n",
        "]\n",
        "\n",
        "schema_customers = [\"customer_id\", \"name\", \"location\"]\n",
        "customer_df = spark.createDataFrame(data_customers, schema=schema_customers)\n",
        "customer_df.show()"
      ],
      "metadata": {
        "id": "yAepoNqx1j_A",
        "colab": {
          "base_uri": "https://localhost:8080/"
        },
        "outputId": "6869a1e9-6d8f-4f5c-dbf2-3c5271913bef"
      },
      "id": "yAepoNqx1j_A",
      "execution_count": null,
      "outputs": [
        {
          "output_type": "stream",
          "name": "stdout",
          "text": [
            "+-----------+-------+--------+\n",
            "|customer_id|   name|location|\n",
            "+-----------+-------+--------+\n",
            "|       C001|  Alice|      NY|\n",
            "|       C002|    Bob|      CA|\n",
            "|       C003|Charlie|      TX|\n",
            "|       C004|  David|      FL|\n",
            "|       C005|    Eve|      NY|\n",
            "+-----------+-------+--------+\n",
            "\n"
          ]
        }
      ]
    },
    {
      "cell_type": "code",
      "source": [
        "#Sample Call Records Data\n",
        "data_calls = [\n",
        "    (\"C001\", \"C002\", 5, \"Connected\"),\n",
        "    (\"C002\", \"C003\", 15, \"Connected\"),\n",
        "    (\"C003\", \"C004\", 7, \"Dropped\"),\n",
        "    (\"C004\", \"C005\", 10, \"Connected\"),\n",
        "    (\"C005\", \"C001\", 12, \"Connected\"),\n",
        "    (\"C001\", \"C003\", 0, \"Failed\"),\n",
        "    (\"C002\", \"C004\", 20, \"Connected\")\n",
        "]\n",
        "\n",
        "schema_calls = [\"caller_id\", \"receiver_id\", \"duration\", \"status\"]\n",
        "call_df = spark.createDataFrame(data_calls, schema=schema_calls)\n",
        "call_df.show()"
      ],
      "metadata": {
        "id": "iC8iUL5q1ohw",
        "colab": {
          "base_uri": "https://localhost:8080/"
        },
        "outputId": "015b7e60-de73-4790-9f30-00adb4be6eaf"
      },
      "id": "iC8iUL5q1ohw",
      "execution_count": null,
      "outputs": [
        {
          "output_type": "stream",
          "name": "stdout",
          "text": [
            "+---------+-----------+--------+---------+\n",
            "|caller_id|receiver_id|duration|   status|\n",
            "+---------+-----------+--------+---------+\n",
            "|     C001|       C002|       5|Connected|\n",
            "|     C002|       C003|      15|Connected|\n",
            "|     C003|       C004|       7|  Dropped|\n",
            "|     C004|       C005|      10|Connected|\n",
            "|     C005|       C001|      12|Connected|\n",
            "|     C001|       C003|       0|   Failed|\n",
            "|     C002|       C004|      20|Connected|\n",
            "+---------+-----------+--------+---------+\n",
            "\n"
          ]
        }
      ]
    },
    {
      "cell_type": "markdown",
      "source": [
        "#Implementing Advanced Joins\n"
      ],
      "metadata": {
        "id": "RZp3IDSR3zBF"
      },
      "id": "RZp3IDSR3zBF"
    },
    {
      "cell_type": "code",
      "source": [
        "#Example 1: Inner Join\n",
        "inner_join_df = customer_df.join(call_df, customer_df.customer_id == call_df.caller_id, \"inner\")\n",
        "inner_join_df.show()"
      ],
      "metadata": {
        "id": "47hP3Shf1obq",
        "colab": {
          "base_uri": "https://localhost:8080/"
        },
        "outputId": "b5a3cd79-000d-4e9a-b348-26767dc5594d"
      },
      "id": "47hP3Shf1obq",
      "execution_count": null,
      "outputs": [
        {
          "output_type": "stream",
          "name": "stdout",
          "text": [
            "+-----------+-------+--------+---------+-----------+--------+---------+\n",
            "|customer_id|   name|location|caller_id|receiver_id|duration|   status|\n",
            "+-----------+-------+--------+---------+-----------+--------+---------+\n",
            "|       C001|  Alice|      NY|     C001|       C002|       5|Connected|\n",
            "|       C001|  Alice|      NY|     C001|       C003|       0|   Failed|\n",
            "|       C002|    Bob|      CA|     C002|       C003|      15|Connected|\n",
            "|       C002|    Bob|      CA|     C002|       C004|      20|Connected|\n",
            "|       C003|Charlie|      TX|     C003|       C004|       7|  Dropped|\n",
            "|       C004|  David|      FL|     C004|       C005|      10|Connected|\n",
            "|       C005|    Eve|      NY|     C005|       C001|      12|Connected|\n",
            "+-----------+-------+--------+---------+-----------+--------+---------+\n",
            "\n"
          ]
        }
      ]
    },
    {
      "cell_type": "code",
      "source": [
        "#Example 2: Left Outer Join\n",
        "left_join_df = customer_df.join(call_df, customer_df.customer_id == call_df.caller_id, \"left\")\n",
        "left_join_df.show()"
      ],
      "metadata": {
        "id": "VYT497O54Aaf",
        "colab": {
          "base_uri": "https://localhost:8080/"
        },
        "outputId": "347c4763-7613-4a5b-fe58-aede20835547"
      },
      "id": "VYT497O54Aaf",
      "execution_count": null,
      "outputs": [
        {
          "output_type": "stream",
          "name": "stdout",
          "text": [
            "+-----------+-------+--------+---------+-----------+--------+---------+\n",
            "|customer_id|   name|location|caller_id|receiver_id|duration|   status|\n",
            "+-----------+-------+--------+---------+-----------+--------+---------+\n",
            "|       C001|  Alice|      NY|     C001|       C003|       0|   Failed|\n",
            "|       C001|  Alice|      NY|     C001|       C002|       5|Connected|\n",
            "|       C002|    Bob|      CA|     C002|       C004|      20|Connected|\n",
            "|       C002|    Bob|      CA|     C002|       C003|      15|Connected|\n",
            "|       C003|Charlie|      TX|     C003|       C004|       7|  Dropped|\n",
            "|       C004|  David|      FL|     C004|       C005|      10|Connected|\n",
            "|       C005|    Eve|      NY|     C005|       C001|      12|Connected|\n",
            "+-----------+-------+--------+---------+-----------+--------+---------+\n",
            "\n"
          ]
        }
      ]
    },
    {
      "cell_type": "code",
      "source": [
        "#Example 3: Right Outer Join\n",
        "right_join_df = customer_df.join(call_df, customer_df.customer_id == call_df.caller_id, \"right\")\n",
        "right_join_df.show()"
      ],
      "metadata": {
        "id": "Opf6HQPI4APD",
        "colab": {
          "base_uri": "https://localhost:8080/"
        },
        "outputId": "d09faaf7-18cd-4b8a-ec00-1e1fff22f5b4"
      },
      "id": "Opf6HQPI4APD",
      "execution_count": null,
      "outputs": [
        {
          "output_type": "stream",
          "name": "stdout",
          "text": [
            "+-----------+-------+--------+---------+-----------+--------+---------+\n",
            "|customer_id|   name|location|caller_id|receiver_id|duration|   status|\n",
            "+-----------+-------+--------+---------+-----------+--------+---------+\n",
            "|       C003|Charlie|      TX|     C003|       C004|       7|  Dropped|\n",
            "|       C001|  Alice|      NY|     C001|       C002|       5|Connected|\n",
            "|       C002|    Bob|      CA|     C002|       C003|      15|Connected|\n",
            "|       C004|  David|      FL|     C004|       C005|      10|Connected|\n",
            "|       C005|    Eve|      NY|     C005|       C001|      12|Connected|\n",
            "|       C001|  Alice|      NY|     C001|       C003|       0|   Failed|\n",
            "|       C002|    Bob|      CA|     C002|       C004|      20|Connected|\n",
            "+-----------+-------+--------+---------+-----------+--------+---------+\n",
            "\n"
          ]
        }
      ]
    },
    {
      "cell_type": "code",
      "source": [
        "#Example 4: Full Outer Join\n",
        "full_outer_join_df = customer_df.join(call_df, customer_df.customer_id == call_df.caller_id, \"outer\")\n",
        "full_outer_join_df.show()"
      ],
      "metadata": {
        "id": "pcShvFWP4AEd",
        "colab": {
          "base_uri": "https://localhost:8080/"
        },
        "outputId": "3234fa9a-052c-4514-a91b-a409afa58faf"
      },
      "id": "pcShvFWP4AEd",
      "execution_count": null,
      "outputs": [
        {
          "output_type": "stream",
          "name": "stdout",
          "text": [
            "+-----------+-------+--------+---------+-----------+--------+---------+\n",
            "|customer_id|   name|location|caller_id|receiver_id|duration|   status|\n",
            "+-----------+-------+--------+---------+-----------+--------+---------+\n",
            "|       C001|  Alice|      NY|     C001|       C002|       5|Connected|\n",
            "|       C001|  Alice|      NY|     C001|       C003|       0|   Failed|\n",
            "|       C002|    Bob|      CA|     C002|       C003|      15|Connected|\n",
            "|       C002|    Bob|      CA|     C002|       C004|      20|Connected|\n",
            "|       C003|Charlie|      TX|     C003|       C004|       7|  Dropped|\n",
            "|       C004|  David|      FL|     C004|       C005|      10|Connected|\n",
            "|       C005|    Eve|      NY|     C005|       C001|      12|Connected|\n",
            "+-----------+-------+--------+---------+-----------+--------+---------+\n",
            "\n"
          ]
        }
      ]
    },
    {
      "cell_type": "markdown",
      "source": [
        "#Aggregations\n"
      ],
      "metadata": {
        "id": "fDA3hgp64NHw"
      },
      "id": "fDA3hgp64NHw"
    },
    {
      "cell_type": "code",
      "source": [
        "#Example 1: Total Duration of Calls per Customer\n",
        "call_duration_agg = call_df.groupBy(\"caller_id\").agg(sum(\"duration\").alias(\"total_duration\"))\n",
        "call_duration_agg.show()"
      ],
      "metadata": {
        "id": "-IO-0gQ94GDQ",
        "colab": {
          "base_uri": "https://localhost:8080/"
        },
        "outputId": "b817681b-1f66-4ba1-84ad-1961eb9c19e2"
      },
      "id": "-IO-0gQ94GDQ",
      "execution_count": null,
      "outputs": [
        {
          "output_type": "stream",
          "name": "stdout",
          "text": [
            "+---------+--------------+\n",
            "|caller_id|total_duration|\n",
            "+---------+--------------+\n",
            "|     C003|             7|\n",
            "|     C001|             5|\n",
            "|     C002|            35|\n",
            "|     C004|            10|\n",
            "|     C005|            12|\n",
            "+---------+--------------+\n",
            "\n"
          ]
        }
      ]
    },
    {
      "cell_type": "code",
      "source": [
        "#Example 2: Average Call Duration by Call Status\n",
        "avg_call_duration = call_df.groupBy(\"status\").agg(avg(\"duration\").alias(\"avg_duration\"))\n",
        "avg_call_duration.show()"
      ],
      "metadata": {
        "id": "JPshmEqr4F_1",
        "colab": {
          "base_uri": "https://localhost:8080/"
        },
        "outputId": "da3d64f7-0211-4c70-fa5f-0674409de3d4"
      },
      "id": "JPshmEqr4F_1",
      "execution_count": null,
      "outputs": [
        {
          "output_type": "stream",
          "name": "stdout",
          "text": [
            "+---------+------------+\n",
            "|   status|avg_duration|\n",
            "+---------+------------+\n",
            "|  Dropped|         7.0|\n",
            "|Connected|        12.4|\n",
            "|   Failed|         0.0|\n",
            "+---------+------------+\n",
            "\n"
          ]
        }
      ]
    },
    {
      "cell_type": "code",
      "source": [
        "#Example 3: Count of Calls per Caller\n",
        "call_count_agg = call_df.groupBy(\"caller_id\").agg(count(\"caller_id\").alias(\"call_count\"))\n",
        "call_count_agg.show()"
      ],
      "metadata": {
        "id": "3sZvWQpt4Udh",
        "colab": {
          "base_uri": "https://localhost:8080/"
        },
        "outputId": "efac46c3-bfb6-474d-ff16-1cb25010cbc9"
      },
      "id": "3sZvWQpt4Udh",
      "execution_count": null,
      "outputs": [
        {
          "output_type": "stream",
          "name": "stdout",
          "text": [
            "+---------+----------+\n",
            "|caller_id|call_count|\n",
            "+---------+----------+\n",
            "|     C003|         1|\n",
            "|     C001|         2|\n",
            "|     C002|         2|\n",
            "|     C004|         1|\n",
            "|     C005|         1|\n",
            "+---------+----------+\n",
            "\n"
          ]
        }
      ]
    },
    {
      "cell_type": "markdown",
      "source": [
        "#Optimizations\n"
      ],
      "metadata": {
        "id": "XWeTsMCu4jQB"
      },
      "id": "XWeTsMCu4jQB"
    },
    {
      "cell_type": "code",
      "source": [
        "#Caching DataFrames\n",
        "customer_df.cache()\n",
        "call_df.cache()\n",
        "customer_df.count()\n",
        "call_df.count()"
      ],
      "metadata": {
        "id": "ydFzzmiV4Xc_",
        "colab": {
          "base_uri": "https://localhost:8080/"
        },
        "outputId": "fbc4f403-ddd0-415c-b756-fecfe9d281bf"
      },
      "id": "ydFzzmiV4Xc_",
      "execution_count": null,
      "outputs": [
        {
          "output_type": "execute_result",
          "data": {
            "text/plain": [
              "7"
            ]
          },
          "metadata": {},
          "execution_count": 12
        }
      ]
    },
    {
      "cell_type": "code",
      "source": [
        "#Using Broadcast Joins\n",
        "from pyspark.sql.functions import broadcast\n",
        "\n",
        "broadcast_join_df = call_df.join(broadcast(customer_df), call_df.caller_id == customer_df.customer_id, \"inner\")\n",
        "broadcast_join_df.show()"
      ],
      "metadata": {
        "id": "pzSbEv-p4XZb",
        "colab": {
          "base_uri": "https://localhost:8080/"
        },
        "outputId": "e9d05cfb-94fe-4320-f17b-2af28589b94e"
      },
      "id": "pzSbEv-p4XZb",
      "execution_count": null,
      "outputs": [
        {
          "output_type": "stream",
          "name": "stdout",
          "text": [
            "+---------+-----------+--------+---------+-----------+-------+--------+\n",
            "|caller_id|receiver_id|duration|   status|customer_id|   name|location|\n",
            "+---------+-----------+--------+---------+-----------+-------+--------+\n",
            "|     C001|       C002|       5|Connected|       C001|  Alice|      NY|\n",
            "|     C002|       C003|      15|Connected|       C002|    Bob|      CA|\n",
            "|     C003|       C004|       7|  Dropped|       C003|Charlie|      TX|\n",
            "|     C004|       C005|      10|Connected|       C004|  David|      FL|\n",
            "|     C005|       C001|      12|Connected|       C005|    Eve|      NY|\n",
            "|     C001|       C003|       0|   Failed|       C001|  Alice|      NY|\n",
            "|     C002|       C004|      20|Connected|       C002|    Bob|      CA|\n",
            "+---------+-----------+--------+---------+-----------+-------+--------+\n",
            "\n"
          ]
        }
      ]
    },
    {
      "cell_type": "code",
      "source": [
        "#Partitioning for Efficient Joins\n",
        "partitioned_customer_df = customer_df.repartition(4, \"location\")\n",
        "partitioned_call_df = call_df.repartition(4, \"caller_id\")"
      ],
      "metadata": {
        "id": "qWYpcs914psM"
      },
      "id": "qWYpcs914psM",
      "execution_count": null,
      "outputs": []
    },
    {
      "cell_type": "code",
      "source": [
        "#Performing a join on partitioned data\n",
        "partitioned_join_df = partitioned_customer_df.join(partitioned_call_df, partitioned_customer_df.customer_id == partitioned_call_df.caller_id, \"inner\")\n",
        "partitioned_join_df.show()"
      ],
      "metadata": {
        "id": "qkyO05784rtY",
        "colab": {
          "base_uri": "https://localhost:8080/"
        },
        "outputId": "cc58b929-40e3-491d-a139-3854fb27896b"
      },
      "id": "qkyO05784rtY",
      "execution_count": null,
      "outputs": [
        {
          "output_type": "stream",
          "name": "stdout",
          "text": [
            "+-----------+-------+--------+---------+-----------+--------+---------+\n",
            "|customer_id|   name|location|caller_id|receiver_id|duration|   status|\n",
            "+-----------+-------+--------+---------+-----------+--------+---------+\n",
            "|       C001|  Alice|      NY|     C001|       C002|       5|Connected|\n",
            "|       C005|    Eve|      NY|     C005|       C001|      12|Connected|\n",
            "|       C001|  Alice|      NY|     C001|       C003|       0|   Failed|\n",
            "|       C002|    Bob|      CA|     C002|       C003|      15|Connected|\n",
            "|       C004|  David|      FL|     C004|       C005|      10|Connected|\n",
            "|       C002|    Bob|      CA|     C002|       C004|      20|Connected|\n",
            "|       C003|Charlie|      TX|     C003|       C004|       7|  Dropped|\n",
            "+-----------+-------+--------+---------+-----------+--------+---------+\n",
            "\n"
          ]
        }
      ]
    },
    {
      "cell_type": "markdown",
      "source": [
        "##Practice Case study - Implementing Advance joins and Optimizations on custom telecom dataset"
      ],
      "metadata": {
        "id": "5jcadi5OoVUg"
      },
      "id": "5jcadi5OoVUg"
    },
    {
      "cell_type": "markdown",
      "source": [
        "\n",
        "\n",
        "```\n",
        "# data_orders = [\n",
        "    (\"O001\", \"C001\", \"P001\", 2),\n",
        "    (\"O002\", \"C002\", \"P002\", 1),\n",
        "    (\"O003\", \"C003\", \"P003\", 3),\n",
        "    (\"O004\", \"C001\", \"P004\", 1),\n",
        "    (\"O005\", \"C002\", \"P001\", 1),\n",
        "    (\"O006\", \"C004\", \"P005\", 2),\n",
        "    (\"O007\", \"C003\", \"P002\", 2),\n",
        "]\n",
        "```\n",
        "\n"
      ],
      "metadata": {
        "id": "fcrIfDsWpFCk"
      },
      "id": "fcrIfDsWpFCk"
    },
    {
      "cell_type": "code",
      "source": [
        "import pyspark\n",
        "from pyspark.sql import SparkSession\n",
        "from pyspark.sql.functions import col, avg, count, sum, when, lit\n",
        "from pyspark.sql.functions import broadcast"
      ],
      "metadata": {
        "id": "85dC_xdqniOA"
      },
      "id": "85dC_xdqniOA",
      "execution_count": null,
      "outputs": []
    },
    {
      "cell_type": "code",
      "source": [
        "# Initialize Spark Session\n",
        "spark = SparkSession.builder.appName(\"Advanced PySpark Operations\").getOrCreate()\n",
        "\n",
        "# New Sample Data: Products and Orders\n",
        "data_products = [\n",
        "    (\"P001\", \"Laptop\", 1200),\n",
        "    (\"P002\", \"Tablet\", 300),\n",
        "    (\"P003\", \"Phone\", 800),\n",
        "    (\"P004\", \"Keyboard\", 75),\n",
        "    (\"P005\", \"Mouse\", 25)\n",
        "]\n",
        "\n",
        "schema_products = [\"product_id\", \"product_name\", \"price\"]\n",
        "product_df = spark.createDataFrame(data_products, schema=schema_products)\n",
        "product_df.show()"
      ],
      "metadata": {
        "colab": {
          "base_uri": "https://localhost:8080/"
        },
        "id": "pH1-omj4ohlo",
        "outputId": "d60e8d37-09f8-4019-8235-0147e8337ad3"
      },
      "id": "pH1-omj4ohlo",
      "execution_count": null,
      "outputs": [
        {
          "output_type": "stream",
          "name": "stdout",
          "text": [
            "+----------+------------+-----+\n",
            "|product_id|product_name|price|\n",
            "+----------+------------+-----+\n",
            "|      P001|      Laptop| 1200|\n",
            "|      P002|      Tablet|  300|\n",
            "|      P003|       Phone|  800|\n",
            "|      P004|    Keyboard|   75|\n",
            "|      P005|       Mouse|   25|\n",
            "+----------+------------+-----+\n",
            "\n"
          ]
        }
      ]
    },
    {
      "cell_type": "code",
      "source": [
        "data_orders = [\n",
        "    (\"O001\", \"C001\", \"P001\", 2),\n",
        "    (\"O002\", \"C002\", \"P002\", 1),\n",
        "    (\"O003\", \"C003\", \"P003\", 3),\n",
        "    (\"O004\", \"C001\", \"P004\", 1),\n",
        "    (\"O005\", \"C002\", \"P001\", 1),\n",
        "    (\"O006\", \"C004\", \"P005\", 2),\n",
        "    (\"O007\", \"C003\", \"P002\", 2),\n",
        "]\n",
        "\n",
        "schema_orders = [\"order_id\", \"customer_id\", \"product_id\", \"quantity\"]\n",
        "order_df = spark.createDataFrame(data_orders, schema=schema_orders)\n",
        "order_df.show()"
      ],
      "metadata": {
        "colab": {
          "base_uri": "https://localhost:8080/"
        },
        "id": "aXIMTQVnqTEd",
        "outputId": "17061015-42fb-49ea-9e80-d1be4626ab03"
      },
      "id": "aXIMTQVnqTEd",
      "execution_count": null,
      "outputs": [
        {
          "output_type": "stream",
          "name": "stdout",
          "text": [
            "+--------+-----------+----------+--------+\n",
            "|order_id|customer_id|product_id|quantity|\n",
            "+--------+-----------+----------+--------+\n",
            "|    O001|       C001|      P001|       2|\n",
            "|    O002|       C002|      P002|       1|\n",
            "|    O003|       C003|      P003|       3|\n",
            "|    O004|       C001|      P004|       1|\n",
            "|    O005|       C002|      P001|       1|\n",
            "|    O006|       C004|      P005|       2|\n",
            "|    O007|       C003|      P002|       2|\n",
            "+--------+-----------+----------+--------+\n",
            "\n"
          ]
        }
      ]
    },
    {
      "cell_type": "markdown",
      "source": [
        "Implementing Advanced Joins\n"
      ],
      "metadata": {
        "id": "aHyuofMEqbmh"
      },
      "id": "aHyuofMEqbmh"
    },
    {
      "cell_type": "code",
      "source": [
        "# Example 1: Inner Join (Orders and Products)\n",
        "inner_join_df = order_df.join(product_df, order_df.product_id == product_df.product_id, \"inner\")\n",
        "inner_join_df.show()"
      ],
      "metadata": {
        "colab": {
          "base_uri": "https://localhost:8080/"
        },
        "id": "MkReXhu8qcvU",
        "outputId": "6d25ecb1-faff-42f7-a76f-df95d740c421"
      },
      "id": "MkReXhu8qcvU",
      "execution_count": null,
      "outputs": [
        {
          "output_type": "stream",
          "name": "stdout",
          "text": [
            "+--------+-----------+----------+--------+----------+------------+-----+\n",
            "|order_id|customer_id|product_id|quantity|product_id|product_name|price|\n",
            "+--------+-----------+----------+--------+----------+------------+-----+\n",
            "|    O001|       C001|      P001|       2|      P001|      Laptop| 1200|\n",
            "|    O005|       C002|      P001|       1|      P001|      Laptop| 1200|\n",
            "|    O002|       C002|      P002|       1|      P002|      Tablet|  300|\n",
            "|    O007|       C003|      P002|       2|      P002|      Tablet|  300|\n",
            "|    O003|       C003|      P003|       3|      P003|       Phone|  800|\n",
            "|    O004|       C001|      P004|       1|      P004|    Keyboard|   75|\n",
            "|    O006|       C004|      P005|       2|      P005|       Mouse|   25|\n",
            "+--------+-----------+----------+--------+----------+------------+-----+\n",
            "\n"
          ]
        }
      ]
    },
    {
      "cell_type": "code",
      "source": [
        "# Example 2: Left Outer Join (Orders and Products)\n",
        "left_join_df = order_df.join(product_df, order_df.product_id == product_df.product_id, \"left\")\n",
        "left_join_df.show()"
      ],
      "metadata": {
        "colab": {
          "base_uri": "https://localhost:8080/"
        },
        "id": "Mzy7vHzwqheR",
        "outputId": "cc15adc7-0ab6-4b0c-de95-6daf98b20397"
      },
      "id": "Mzy7vHzwqheR",
      "execution_count": null,
      "outputs": [
        {
          "output_type": "stream",
          "name": "stdout",
          "text": [
            "+--------+-----------+----------+--------+----------+------------+-----+\n",
            "|order_id|customer_id|product_id|quantity|product_id|product_name|price|\n",
            "+--------+-----------+----------+--------+----------+------------+-----+\n",
            "|    O003|       C003|      P003|       3|      P003|       Phone|  800|\n",
            "|    O002|       C002|      P002|       1|      P002|      Tablet|  300|\n",
            "|    O001|       C001|      P001|       2|      P001|      Laptop| 1200|\n",
            "|    O004|       C001|      P004|       1|      P004|    Keyboard|   75|\n",
            "|    O007|       C003|      P002|       2|      P002|      Tablet|  300|\n",
            "|    O005|       C002|      P001|       1|      P001|      Laptop| 1200|\n",
            "|    O006|       C004|      P005|       2|      P005|       Mouse|   25|\n",
            "+--------+-----------+----------+--------+----------+------------+-----+\n",
            "\n"
          ]
        }
      ]
    },
    {
      "cell_type": "markdown",
      "source": [
        "Implementing Aggregations\n"
      ],
      "metadata": {
        "id": "mP0xH7teqsnd"
      },
      "id": "mP0xH7teqsnd"
    },
    {
      "cell_type": "code",
      "source": [
        "# Example 1: Total Revenue per Product\n",
        "revenue_per_product = inner_join_df.groupBy(\"product_name\").agg(sum(col(\"price\") * col(\"quantity\")).alias(\"total_revenue\"))\n",
        "revenue_per_product.show()"
      ],
      "metadata": {
        "colab": {
          "base_uri": "https://localhost:8080/"
        },
        "id": "jIRGSsoqqha7",
        "outputId": "ae15bfb3-71f4-40bc-c621-69ff9cd05f06"
      },
      "id": "jIRGSsoqqha7",
      "execution_count": null,
      "outputs": [
        {
          "output_type": "stream",
          "name": "stdout",
          "text": [
            "+------------+-------------+\n",
            "|product_name|total_revenue|\n",
            "+------------+-------------+\n",
            "|       Phone|         2400|\n",
            "|      Laptop|         3600|\n",
            "|       Mouse|           50|\n",
            "|      Tablet|          900|\n",
            "|    Keyboard|           75|\n",
            "+------------+-------------+\n",
            "\n"
          ]
        }
      ]
    },
    {
      "cell_type": "code",
      "source": [
        "# Example 2: Average Order Quantity\n",
        "average_order_quantity = order_df.agg(avg(\"quantity\").alias(\"avg_quantity\"))\n",
        "average_order_quantity.show()"
      ],
      "metadata": {
        "colab": {
          "base_uri": "https://localhost:8080/"
        },
        "id": "ASP72eMVqhY4",
        "outputId": "882e7741-298c-446b-b7b2-334a7a490ba8"
      },
      "id": "ASP72eMVqhY4",
      "execution_count": null,
      "outputs": [
        {
          "output_type": "stream",
          "name": "stdout",
          "text": [
            "+------------------+\n",
            "|      avg_quantity|\n",
            "+------------------+\n",
            "|1.7142857142857142|\n",
            "+------------------+\n",
            "\n"
          ]
        }
      ]
    },
    {
      "cell_type": "markdown",
      "source": [
        "Optimizations\n"
      ],
      "metadata": {
        "id": "dfpRYjmZq329"
      },
      "id": "dfpRYjmZq329"
    },
    {
      "cell_type": "code",
      "source": [
        "# Caching DataFrames\n",
        "product_df.cache()\n",
        "order_df.cache()\n",
        "product_df.count()\n",
        "order_df.count()"
      ],
      "metadata": {
        "colab": {
          "base_uri": "https://localhost:8080/"
        },
        "id": "MgFdrPlQqhWf",
        "outputId": "139b75be-ed3c-4d36-965e-7a0f9e9695a3"
      },
      "id": "MgFdrPlQqhWf",
      "execution_count": null,
      "outputs": [
        {
          "output_type": "execute_result",
          "data": {
            "text/plain": [
              "7"
            ]
          },
          "metadata": {},
          "execution_count": 24
        }
      ]
    },
    {
      "cell_type": "code",
      "source": [
        "# Using Broadcast Joins\n",
        "broadcast_join_df = order_df.join(broadcast(product_df), order_df.product_id == product_df.product_id, \"inner\")\n",
        "broadcast_join_df.show()"
      ],
      "metadata": {
        "colab": {
          "base_uri": "https://localhost:8080/"
        },
        "id": "GY9jox-NrTt3",
        "outputId": "fc5ca688-830e-48a5-8da2-baa80d1d9b46"
      },
      "id": "GY9jox-NrTt3",
      "execution_count": null,
      "outputs": [
        {
          "output_type": "stream",
          "name": "stdout",
          "text": [
            "+--------+-----------+----------+--------+----------+------------+-----+\n",
            "|order_id|customer_id|product_id|quantity|product_id|product_name|price|\n",
            "+--------+-----------+----------+--------+----------+------------+-----+\n",
            "|    O001|       C001|      P001|       2|      P001|      Laptop| 1200|\n",
            "|    O002|       C002|      P002|       1|      P002|      Tablet|  300|\n",
            "|    O003|       C003|      P003|       3|      P003|       Phone|  800|\n",
            "|    O004|       C001|      P004|       1|      P004|    Keyboard|   75|\n",
            "|    O005|       C002|      P001|       1|      P001|      Laptop| 1200|\n",
            "|    O006|       C004|      P005|       2|      P005|       Mouse|   25|\n",
            "|    O007|       C003|      P002|       2|      P002|      Tablet|  300|\n",
            "+--------+-----------+----------+--------+----------+------------+-----+\n",
            "\n"
          ]
        }
      ]
    },
    {
      "cell_type": "code",
      "source": [
        "# Partitioning for Efficient Joins\n",
        "partitioned_product_df = product_df.repartition(2, \"product_id\") #Using product_id for partitioning\n",
        "partitioned_order_df = order_df.repartition(2, \"product_id\") #Using product_id for partitioning"
      ],
      "metadata": {
        "id": "HQvVo6hCrWBi"
      },
      "id": "HQvVo6hCrWBi",
      "execution_count": null,
      "outputs": []
    },
    {
      "cell_type": "code",
      "source": [
        "partitioned_join_df = partitioned_product_df.join(partitioned_order_df, partitioned_product_df.product_id == partitioned_order_df.product_id, \"inner\")\n",
        "partitioned_join_df.show()"
      ],
      "metadata": {
        "colab": {
          "base_uri": "https://localhost:8080/"
        },
        "id": "nrgvvceerX10",
        "outputId": "3a65d393-1877-4ae4-9896-562c3969f15a"
      },
      "id": "nrgvvceerX10",
      "execution_count": null,
      "outputs": [
        {
          "output_type": "stream",
          "name": "stdout",
          "text": [
            "+----------+------------+-----+--------+-----------+----------+--------+\n",
            "|product_id|product_name|price|order_id|customer_id|product_id|quantity|\n",
            "+----------+------------+-----+--------+-----------+----------+--------+\n",
            "|      P002|      Tablet|  300|    O002|       C002|      P002|       1|\n",
            "|      P004|    Keyboard|   75|    O004|       C001|      P004|       1|\n",
            "|      P002|      Tablet|  300|    O007|       C003|      P002|       2|\n",
            "|      P001|      Laptop| 1200|    O001|       C001|      P001|       2|\n",
            "|      P003|       Phone|  800|    O003|       C003|      P003|       3|\n",
            "|      P001|      Laptop| 1200|    O005|       C002|      P001|       1|\n",
            "|      P005|       Mouse|   25|    O006|       C004|      P005|       2|\n",
            "+----------+------------+-----+--------+-----------+----------+--------+\n",
            "\n"
          ]
        }
      ]
    },
    {
      "cell_type": "markdown",
      "source": [
        "# Thank You"
      ],
      "metadata": {
        "id": "BX5F9GD-3rmY"
      },
      "id": "BX5F9GD-3rmY"
    }
  ],
  "metadata": {
    "colab": {
      "provenance": []
    },
    "language_info": {
      "name": "python"
    },
    "kernelspec": {
      "name": "python3",
      "display_name": "Python 3"
    }
  },
  "nbformat": 4,
  "nbformat_minor": 5
}