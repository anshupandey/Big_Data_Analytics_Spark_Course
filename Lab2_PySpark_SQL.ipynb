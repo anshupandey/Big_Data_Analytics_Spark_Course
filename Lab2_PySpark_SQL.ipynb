{
  "cells": [
    {
      "cell_type": "markdown",
      "id": "f3495r1qT4NP",
      "metadata": {
        "id": "f3495r1qT4NP"
      },
      "source": [
        "# Lab 2: Spark SQL and DataFrames"
      ]
    },
    {
      "cell_type": "markdown",
      "id": "506a0361",
      "metadata": {},
      "source": [
        "## Tasks\n",
        "\n",
        "1. **Markdown Cells:**\n",
        "    - Introduction to Spark SQL and DataFrames.\n",
        "    - Explanation of key concepts in Spark SQL and DataFrames.\n",
        "    - Description of the PySpark lab and its objectives.\n",
        "    - Explanation of various SQL operations and functions.\n",
        "\n",
        "2. **Setup and Configuration:**\n",
        "    - Install and configure PySpark.\n",
        "    - Initialize a SparkSession.\n",
        "\n",
        "3. **Define Schema:**\n",
        "    - Define the schema for the synthetic telecom dataset using `StructType` and `StructField`.\n",
        "\n",
        "4. **Create Synthetic Dataset:**\n",
        "    - Create a synthetic dataset with sample telecom data.\n",
        "\n",
        "5. **Create DataFrame:**\n",
        "    - Create a DataFrame from the synthetic dataset using the defined schema.\n",
        "    - Display the DataFrame.\n",
        "\n",
        "6. **Register DataFrame as SQL Temporary View:**\n",
        "    - Register the DataFrame as a temporary SQL view named \"Telecom\".\n",
        "\n",
        "7. **SQL Queries:**\n",
        "    - Perform various SQL queries on the \"Telecom\" view, including:\n",
        "      - Selecting specific columns.\n",
        "      - Filtering rows based on conditions.\n",
        "      - Using aggregate functions (e.g., `AVG`, `SUM`, `COUNT`).\n",
        "      - Ordering results.\n",
        "      - Combining conditions.\n",
        "      - Performing string operations.\n",
        "      - Using SQL subqueries.\n",
        "      - Using `IN` and `DISTINCT`.\n",
        "      - Using `GROUP BY` with `HAVING`.\n",
        "      - Using `CASE` for conditional logic.\n",
        "\n",
        "8. **Example SQL Queries:**\n",
        "    - Find all customers who churned.\n",
        "    - Calculate the average monthly charges for each plan.\n",
        "    - Find the customer with the highest data usage.\n",
        "    - List customers with tenure greater than 1 year and monthly charges less than $60.\n",
        "    - Count the number of customers in each city.\n"
      ]
    },
    {
      "cell_type": "code",
      "execution_count": null,
      "id": "c0619821",
      "metadata": {
        "vscode": {
          "languageId": "markdown"
        }
      },
      "outputs": [],
      "source": []
    },
    {
      "cell_type": "markdown",
      "id": "57Vus1iCT8Xb",
      "metadata": {
        "id": "57Vus1iCT8Xb"
      },
      "source": [
        "## Introduction to Spark SQL and DataFrames\n",
        "\n",
        "Spark SQL allows querying structured data using SQL-like syntax, while DataFrames provide a distributed data abstraction with named columns.\n",
        "This lab will focus on performing SQL queries and DataFrame operations for structured data processing."
      ]
    },
    {
      "cell_type": "markdown",
      "id": "_yYTMO_ogAqJ",
      "metadata": {
        "id": "_yYTMO_ogAqJ"
      },
      "source": [
        "## PySpark Lab: Spark SQL and DataFrames\n",
        "### Introduction to Spark SQL and DataFrames\n",
        "Spark SQL allows querying structured data using SQL-like syntax, while DataFrames provide a distributed data abstraction with named columns.\n",
        "\n",
        "#Spark SQL\n",
        "\n",
        "Spark SQL is a Spark module for structured data processing. It provides a programming abstraction called DataFrames and can also act as a distributed SQL query engine.  It allows querying data in various formats (like Parquet, JSON, CSV, Hive tables) using SQL or a DataFrame API in Python, Scala, Java, and R.\n",
        "\n",
        "#Key Concepts:\n",
        "Catalyst Optimizer: A powerful query optimizer that analyzes and rewrites queries to generate efficient execution plans.  This is crucial for performance. It utilizes cost-based optimization and supports various query optimization techniques.\n",
        "\n",
        "DataFrame API: The DataFrame API provides a set of functions (similar to those in pandas) to manipulate structured data. The DataFrame API is often preferred for complex transformations, or when you want fine-grained control over data processing.\n",
        "\n",
        "SQL Queries: Traditional SQL queries can be executed against Spark DataFrames. This provides familiarity for users comfortable with SQL and allows integration with existing SQL-based ETL workflows.\n",
        "\n",
        "Data Sources: Spark SQL supports reading from and writing to various data sources, including Hive tables, JSON files, CSV files, Parquet files, ORC files, and JDBC data sources.\n",
        "\n",
        "\n",
        "### DataFrames\n",
        "\n",
        "DataFrames are conceptually equivalent to tables in relational databases or dataframes in Python (pandas). They organize data into named columns, similar to a spreadsheet or SQL table.  Critically, DataFrames are distributed across a cluster.\n",
        "\n",
        "#Key Features:\n",
        "\n",
        "Immutability: DataFrames in Spark are immutable. Operations on a DataFrame create a *new* DataFrame with the changes, leaving the original unchanged.\n",
        "\n",
        "Lazy Evaluation: Most operations on DataFrames are not executed immediately. Instead, they are added to a directed acyclic graph (DAG) of operations. This DAG is optimized by the Catalyst Optimizer before the actual execution begins.\n",
        "\n",
        "Schema: DataFrames have a defined schema, describing the data types of each column.  This helps in efficient data processing, as Spark knows the structure of the data.\n",
        "\n",
        "Schema Inference: Spark can infer the schema of a DataFrame from data sources like JSON or CSV files if you do not provide an explicit schema.\n",
        "\n",
        "Distributed Computing: DataFrames are distributed across the Spark cluster, enabling parallel processing of large datasets.\n",
        "\n",
        "Operations: A variety of operations are available for manipulating DataFrames including filtering, aggregation (group by, sum, count, average, min, max), joins, and transformations.\n",
        "\n",
        "\n",
        "#Interoperability\n",
        "\n",
        "Spark SQL and DataFrames are highly interoperable. SQL queries can be used on DataFrames and the results can be transformed back to DataFrames for further processing.  Converting between DataFrames and RDDs is also possible but often not as efficient as native DataFrame operations.\n",
        "\n",
        "\n",
        "#Performance Considerations\n",
        "\n",
        "Data Partitioning: Proper data partitioning is crucial for performance. Partitioning the data appropriately ensures data locality, minimizing data shuffling between executors.\n",
        "\n",
        "Catalyst Optimizer: Understanding how the Catalyst Optimizer works is vital. For complex queries, analyzing the execution plan can help identify areas for improvement.\n",
        "\n",
        "Data Serialization: Choosing appropriate data serialization formats (e.g., Parquet) can significantly reduce storage and processing costs."
      ]
    },
    {
      "cell_type": "code",
      "execution_count": null,
      "id": "5d1d174b",
      "metadata": {
        "colab": {
          "base_uri": "https://localhost:8080/"
        },
        "id": "5d1d174b",
        "outputId": "d639fcea-faa9-4bb9-e111-b416884ca6f9"
      },
      "outputs": [
        {
          "name": "stdout",
          "output_type": "stream",
          "text": [
            "Requirement already satisfied: pyspark in /usr/local/lib/python3.10/dist-packages (3.5.3)\n",
            "Requirement already satisfied: py4j==0.10.9.7 in /usr/local/lib/python3.10/dist-packages (from pyspark) (0.10.9.7)\n"
          ]
        }
      ],
      "source": [
        "#Install and Configure PySpark\n",
        "!pip install pyspark\n",
        "from pyspark.sql import SparkSession\n",
        "from pyspark.sql.types import StructType, StructField, StringType, IntegerType, FloatType\n",
        "\n",
        "# ## Initialize SparkSession\n",
        "\n",
        "spark = SparkSession \\\n",
        "    .builder \\\n",
        "    .appName(\"Spark SQL Telecom Examples\") \\\n",
        "    .config(\"spark.some.config.option\", \"some-value\") \\\n",
        "    .getOrCreate()"
      ]
    },
    {
      "cell_type": "markdown",
      "id": "2796f7d5",
      "metadata": {
        "id": "2796f7d5"
      },
      "source": [
        "## Define schema for synthetic telecom dataset"
      ]
    },
    {
      "cell_type": "code",
      "execution_count": null,
      "id": "b60e4be1",
      "metadata": {
        "id": "b60e4be1"
      },
      "outputs": [],
      "source": [
        "schema = StructType([\n",
        "    StructField(\"CustomerID\", StringType(), True),\n",
        "    StructField(\"Plan\", StringType(), True),\n",
        "    StructField(\"City\", StringType(), True),\n",
        "    StructField(\"DataUsageGB\", FloatType(), True),\n",
        "    StructField(\"MonthlyCharges\", FloatType(), True),\n",
        "    StructField(\"TenureMonths\", IntegerType(), True),\n",
        "    StructField(\"Churn\", StringType(), True)\n",
        "])"
      ]
    },
    {
      "cell_type": "markdown",
      "id": "5e10bc4b",
      "metadata": {
        "id": "5e10bc4b"
      },
      "source": [
        "## Create synthetic dataset"
      ]
    },
    {
      "cell_type": "code",
      "execution_count": null,
      "id": "3c5493c4",
      "metadata": {
        "id": "3c5493c4"
      },
      "outputs": [],
      "source": [
        "telecom_data = [\n",
        "    (\"C001\", \"Basic\", \"New York\", 2.5, 20.0, 12, \"No\"),\n",
        "    (\"C002\", \"Premium\", \"Los Angeles\", 50.0, 100.0, 24, \"Yes\"),\n",
        "    (\"C003\", \"Basic\", \"Chicago\", 3.0, 25.0, 8, \"No\"),\n",
        "    (\"C004\", \"Standard\", \"Houston\", 10.0, 50.0, 15, \"No\"),\n",
        "    (\"C005\", \"Premium\", \"Phoenix\", 60.0, 120.0, 30, \"Yes\"),\n",
        "    (\"C006\", \"Standard\", \"Seattle\", 20.0, 60.0, 18, \"No\"),\n",
        "    (\"C007\", \"Basic\", \"Denver\", 1.0, 15.0, 5, \"No\"),\n",
        "    (\"C008\", \"Premium\", \"San Francisco\", 100.0, 200.0, 36, \"Yes\")\n",
        "]"
      ]
    },
    {
      "cell_type": "markdown",
      "id": "bf38d934",
      "metadata": {
        "id": "bf38d934"
      },
      "source": [
        "## Create DataFrame"
      ]
    },
    {
      "cell_type": "code",
      "execution_count": null,
      "id": "8ad44f45",
      "metadata": {
        "colab": {
          "base_uri": "https://localhost:8080/"
        },
        "id": "8ad44f45",
        "outputId": "c01cf481-0aea-415b-c939-a0bece6200c7"
      },
      "outputs": [
        {
          "name": "stdout",
          "output_type": "stream",
          "text": [
            "+----------+--------+-------------+-----------+--------------+------------+-----+\n",
            "|CustomerID|    Plan|         City|DataUsageGB|MonthlyCharges|TenureMonths|Churn|\n",
            "+----------+--------+-------------+-----------+--------------+------------+-----+\n",
            "|      C001|   Basic|     New York|        2.5|          20.0|          12|   No|\n",
            "|      C002| Premium|  Los Angeles|       50.0|         100.0|          24|  Yes|\n",
            "|      C003|   Basic|      Chicago|        3.0|          25.0|           8|   No|\n",
            "|      C004|Standard|      Houston|       10.0|          50.0|          15|   No|\n",
            "|      C005| Premium|      Phoenix|       60.0|         120.0|          30|  Yes|\n",
            "|      C006|Standard|      Seattle|       20.0|          60.0|          18|   No|\n",
            "|      C007|   Basic|       Denver|        1.0|          15.0|           5|   No|\n",
            "|      C008| Premium|San Francisco|      100.0|         200.0|          36|  Yes|\n",
            "+----------+--------+-------------+-----------+--------------+------------+-----+\n",
            "\n"
          ]
        }
      ],
      "source": [
        "df = spark.createDataFrame(telecom_data, schema=schema)\n",
        "\n",
        "# Display the DataFrame\n",
        "df.show()"
      ]
    },
    {
      "cell_type": "markdown",
      "id": "0a6ffcbc",
      "metadata": {
        "id": "0a6ffcbc"
      },
      "source": [
        "## Register DataFrame as SQL temporary view"
      ]
    },
    {
      "cell_type": "code",
      "execution_count": null,
      "id": "479306ab",
      "metadata": {
        "id": "479306ab"
      },
      "outputs": [],
      "source": [
        "df.createOrReplaceTempView(\"Telecom\")"
      ]
    },
    {
      "cell_type": "markdown",
      "id": "d93809c8",
      "metadata": {
        "id": "d93809c8"
      },
      "source": [
        "# Selecting specific columns"
      ]
    },
    {
      "cell_type": "code",
      "execution_count": null,
      "id": "a168fbe2",
      "metadata": {
        "colab": {
          "base_uri": "https://localhost:8080/"
        },
        "id": "a168fbe2",
        "outputId": "9647296d-9f2d-4a02-8cc1-20566a07fb48"
      },
      "outputs": [
        {
          "name": "stdout",
          "output_type": "stream",
          "text": [
            "+----------+--------+--------------+\n",
            "|CustomerID|    Plan|MonthlyCharges|\n",
            "+----------+--------+--------------+\n",
            "|      C001|   Basic|          20.0|\n",
            "|      C002| Premium|         100.0|\n",
            "|      C003|   Basic|          25.0|\n",
            "|      C004|Standard|          50.0|\n",
            "|      C005| Premium|         120.0|\n",
            "|      C006|Standard|          60.0|\n",
            "|      C007|   Basic|          15.0|\n",
            "|      C008| Premium|         200.0|\n",
            "+----------+--------+--------------+\n",
            "\n"
          ]
        }
      ],
      "source": [
        "# Example 1\n",
        "spark.sql(\"SELECT CustomerID, Plan, MonthlyCharges FROM Telecom\").show()"
      ]
    },
    {
      "cell_type": "code",
      "execution_count": null,
      "id": "1XXwqKBGRmc7",
      "metadata": {
        "colab": {
          "base_uri": "https://localhost:8080/"
        },
        "id": "1XXwqKBGRmc7",
        "outputId": "e56d41c2-3c1e-4fc4-95da-ecb5e0ccf32c"
      },
      "outputs": [
        {
          "name": "stdout",
          "output_type": "stream",
          "text": [
            "+--------+-------------+\n",
            "|    Plan|         City|\n",
            "+--------+-------------+\n",
            "|   Basic|     New York|\n",
            "| Premium|  Los Angeles|\n",
            "|   Basic|      Chicago|\n",
            "|Standard|      Houston|\n",
            "| Premium|      Phoenix|\n",
            "|Standard|      Seattle|\n",
            "|   Basic|       Denver|\n",
            "| Premium|San Francisco|\n",
            "+--------+-------------+\n",
            "\n"
          ]
        }
      ],
      "source": [
        "# Example 2\n",
        "spark.sql(\"SELECT Plan, City FROM Telecom\").show()"
      ]
    },
    {
      "cell_type": "code",
      "execution_count": null,
      "id": "fe-bdxI-RmLD",
      "metadata": {
        "colab": {
          "base_uri": "https://localhost:8080/"
        },
        "id": "fe-bdxI-RmLD",
        "outputId": "838cc464-e46b-4d8a-e650-a9f76be439b3"
      },
      "outputs": [
        {
          "name": "stdout",
          "output_type": "stream",
          "text": [
            "+----------+------------+\n",
            "|CustomerID|TenureMonths|\n",
            "+----------+------------+\n",
            "|      C001|          12|\n",
            "|      C002|          24|\n",
            "|      C003|           8|\n",
            "|      C004|          15|\n",
            "|      C005|          30|\n",
            "|      C006|          18|\n",
            "|      C007|           5|\n",
            "|      C008|          36|\n",
            "+----------+------------+\n",
            "\n"
          ]
        }
      ],
      "source": [
        "# Example 3\n",
        "spark.sql(\"SELECT CustomerID, TenureMonths FROM Telecom\").show()"
      ]
    },
    {
      "cell_type": "markdown",
      "id": "cc70dd93",
      "metadata": {
        "id": "cc70dd93"
      },
      "source": [
        "#Filtering rows based on conditions"
      ]
    },
    {
      "cell_type": "code",
      "execution_count": null,
      "id": "829b8d60",
      "metadata": {
        "colab": {
          "base_uri": "https://localhost:8080/"
        },
        "id": "829b8d60",
        "outputId": "91276110-f65d-4cb5-a657-d4415d756ba2"
      },
      "outputs": [
        {
          "name": "stdout",
          "output_type": "stream",
          "text": [
            "+----------+-------+-------------+-----------+--------------+------------+-----+\n",
            "|CustomerID|   Plan|         City|DataUsageGB|MonthlyCharges|TenureMonths|Churn|\n",
            "+----------+-------+-------------+-----------+--------------+------------+-----+\n",
            "|      C002|Premium|  Los Angeles|       50.0|         100.0|          24|  Yes|\n",
            "|      C005|Premium|      Phoenix|       60.0|         120.0|          30|  Yes|\n",
            "|      C008|Premium|San Francisco|      100.0|         200.0|          36|  Yes|\n",
            "+----------+-------+-------------+-----------+--------------+------------+-----+\n",
            "\n"
          ]
        }
      ],
      "source": [
        "# Example 1\n",
        "spark.sql(\"SELECT * FROM Telecom WHERE Churn = 'Yes'\").show()"
      ]
    },
    {
      "cell_type": "code",
      "execution_count": null,
      "id": "NfzpHXvnRuor",
      "metadata": {
        "colab": {
          "base_uri": "https://localhost:8080/"
        },
        "id": "NfzpHXvnRuor",
        "outputId": "437d9a0c-3fd2-4590-9dcd-112066bed048"
      },
      "outputs": [
        {
          "name": "stdout",
          "output_type": "stream",
          "text": [
            "+----------+-----------+\n",
            "|CustomerID|DataUsageGB|\n",
            "+----------+-----------+\n",
            "|      C005|       60.0|\n",
            "|      C008|      100.0|\n",
            "+----------+-----------+\n",
            "\n"
          ]
        }
      ],
      "source": [
        "# Example 2\n",
        "spark.sql(\"SELECT CustomerID, DataUsageGB FROM Telecom WHERE DataUsageGB > 50\").show()"
      ]
    },
    {
      "cell_type": "code",
      "execution_count": null,
      "id": "hmjZHH-GRxBz",
      "metadata": {
        "colab": {
          "base_uri": "https://localhost:8080/"
        },
        "id": "hmjZHH-GRxBz",
        "outputId": "8fc3767f-8132-4b74-db81-078539856a4d"
      },
      "outputs": [
        {
          "name": "stdout",
          "output_type": "stream",
          "text": [
            "+----------+------------+\n",
            "|CustomerID|TenureMonths|\n",
            "+----------+------------+\n",
            "|      C003|           8|\n",
            "|      C007|           5|\n",
            "+----------+------------+\n",
            "\n"
          ]
        }
      ],
      "source": [
        "# Example 3\n",
        "spark.sql(\"SELECT CustomerID, TenureMonths FROM Telecom WHERE TenureMonths < 12\").show()"
      ]
    },
    {
      "cell_type": "markdown",
      "id": "5220d512",
      "metadata": {
        "id": "5220d512"
      },
      "source": [
        "#Aggregate functions"
      ]
    },
    {
      "cell_type": "code",
      "execution_count": null,
      "id": "9709e7ce",
      "metadata": {
        "colab": {
          "base_uri": "https://localhost:8080/"
        },
        "id": "9709e7ce",
        "outputId": "9ff07a57-8e6b-4b7b-dabc-8f62186b72b3"
      },
      "outputs": [
        {
          "name": "stdout",
          "output_type": "stream",
          "text": [
            "+--------+----------+\n",
            "|    Plan|AvgCharges|\n",
            "+--------+----------+\n",
            "| Premium|     140.0|\n",
            "|   Basic|      20.0|\n",
            "|Standard|      55.0|\n",
            "+--------+----------+\n",
            "\n"
          ]
        }
      ],
      "source": [
        "# Example 1\n",
        "spark.sql(\"SELECT Plan, AVG(MonthlyCharges) as AvgCharges FROM Telecom GROUP BY Plan\").show()"
      ]
    },
    {
      "cell_type": "code",
      "execution_count": null,
      "id": "lKfh5Q75R1p1",
      "metadata": {
        "colab": {
          "base_uri": "https://localhost:8080/"
        },
        "id": "lKfh5Q75R1p1",
        "outputId": "198bd618-8a8d-4390-dacd-d119abe3b6d5"
      },
      "outputs": [
        {
          "name": "stdout",
          "output_type": "stream",
          "text": [
            "+--------+--------------+\n",
            "|    Plan|TotalDataUsage|\n",
            "+--------+--------------+\n",
            "| Premium|         210.0|\n",
            "|   Basic|           6.5|\n",
            "|Standard|          30.0|\n",
            "+--------+--------------+\n",
            "\n"
          ]
        }
      ],
      "source": [
        "# Example 2\n",
        "spark.sql(\"SELECT Plan, SUM(DataUsageGB) as TotalDataUsage FROM Telecom GROUP BY Plan\").show()"
      ]
    },
    {
      "cell_type": "code",
      "execution_count": null,
      "id": "wZnmFm7XR1cK",
      "metadata": {
        "colab": {
          "base_uri": "https://localhost:8080/"
        },
        "id": "wZnmFm7XR1cK",
        "outputId": "823e799d-e4a3-46fc-db86-bf277828c0e6"
      },
      "outputs": [
        {
          "name": "stdout",
          "output_type": "stream",
          "text": [
            "+-------------+-------------+\n",
            "|         City|CustomerCount|\n",
            "+-------------+-------------+\n",
            "|  Los Angeles|            1|\n",
            "|      Chicago|            1|\n",
            "|      Houston|            1|\n",
            "|     New York|            1|\n",
            "|      Phoenix|            1|\n",
            "|San Francisco|            1|\n",
            "|      Seattle|            1|\n",
            "|       Denver|            1|\n",
            "+-------------+-------------+\n",
            "\n"
          ]
        }
      ],
      "source": [
        "# Example 3\n",
        "spark.sql(\"SELECT City, COUNT(CustomerID) as CustomerCount FROM Telecom GROUP BY City\").show()"
      ]
    },
    {
      "cell_type": "markdown",
      "id": "cCUqQc-wNHZ1",
      "metadata": {
        "id": "cCUqQc-wNHZ1"
      },
      "source": [
        "#Order results\n"
      ]
    },
    {
      "cell_type": "code",
      "execution_count": null,
      "id": "TfZA-pbrM8eB",
      "metadata": {
        "colab": {
          "base_uri": "https://localhost:8080/"
        },
        "id": "TfZA-pbrM8eB",
        "outputId": "855e42aa-7203-4ae3-a56b-f3dea34badd4"
      },
      "outputs": [
        {
          "name": "stdout",
          "output_type": "stream",
          "text": [
            "+----------+--------------+\n",
            "|CustomerID|MonthlyCharges|\n",
            "+----------+--------------+\n",
            "|      C008|         200.0|\n",
            "|      C005|         120.0|\n",
            "|      C002|         100.0|\n",
            "+----------+--------------+\n",
            "\n"
          ]
        }
      ],
      "source": [
        "#Top 3 customers with highest monthly charges\n",
        "spark.sql(\"SELECT CustomerID, MonthlyCharges FROM Telecom ORDER BY MonthlyCharges DESC LIMIT 3\").show()"
      ]
    },
    {
      "cell_type": "code",
      "execution_count": null,
      "id": "V-2tcMiXSAT9",
      "metadata": {
        "colab": {
          "base_uri": "https://localhost:8080/"
        },
        "id": "V-2tcMiXSAT9",
        "outputId": "f8066229-5bf3-4f03-ac29-a43fba13d524"
      },
      "outputs": [
        {
          "name": "stdout",
          "output_type": "stream",
          "text": [
            "+----------+-----------+\n",
            "|CustomerID|DataUsageGB|\n",
            "+----------+-----------+\n",
            "|      C007|        1.0|\n",
            "|      C001|        2.5|\n",
            "|      C003|        3.0|\n",
            "+----------+-----------+\n",
            "\n"
          ]
        }
      ],
      "source": [
        "#Customers with the lowest data usage\n",
        "spark.sql(\"SELECT CustomerID, DataUsageGB FROM Telecom ORDER BY DataUsageGB ASC LIMIT 3\").show()"
      ]
    },
    {
      "cell_type": "code",
      "execution_count": null,
      "id": "0d2E4z4SSAQh",
      "metadata": {
        "colab": {
          "base_uri": "https://localhost:8080/"
        },
        "id": "0d2E4z4SSAQh",
        "outputId": "4563eaf7-15c4-4738-fbc7-dd28da61dc6c"
      },
      "outputs": [
        {
          "name": "stdout",
          "output_type": "stream",
          "text": [
            "+-------------+-------------+\n",
            "|         City|CustomerCount|\n",
            "+-------------+-------------+\n",
            "|  Los Angeles|            1|\n",
            "|      Chicago|            1|\n",
            "|      Houston|            1|\n",
            "|     New York|            1|\n",
            "|      Phoenix|            1|\n",
            "|San Francisco|            1|\n",
            "|      Seattle|            1|\n",
            "|       Denver|            1|\n",
            "+-------------+-------------+\n",
            "\n"
          ]
        }
      ],
      "source": [
        "#Cities with the highest number of customers\n",
        "spark.sql(\"SELECT City, COUNT(CustomerID) as CustomerCount FROM Telecom GROUP BY City ORDER BY CustomerCount DESC\").show()"
      ]
    },
    {
      "cell_type": "markdown",
      "id": "JuKPfyfsSI9f",
      "metadata": {
        "id": "JuKPfyfsSI9f"
      },
      "source": [
        "#Combine conditions\n"
      ]
    },
    {
      "cell_type": "code",
      "execution_count": null,
      "id": "urrVPCj_SPp4",
      "metadata": {
        "colab": {
          "base_uri": "https://localhost:8080/"
        },
        "id": "urrVPCj_SPp4",
        "outputId": "d0f14bf0-f9d8-4aef-96ec-9d823c354900"
      },
      "outputs": [
        {
          "name": "stdout",
          "output_type": "stream",
          "text": [
            "+----------+-------+------------+\n",
            "|CustomerID|   Plan|TenureMonths|\n",
            "+----------+-------+------------+\n",
            "|      C005|Premium|          30|\n",
            "|      C008|Premium|          36|\n",
            "+----------+-------+------------+\n",
            "\n"
          ]
        }
      ],
      "source": [
        "#Customers with Premium plan and tenure greater than 24 months\n",
        "spark.sql(\"SELECT CustomerID, Plan, TenureMonths FROM Telecom WHERE Plan = 'Premium' AND TenureMonths > 24\").show()"
      ]
    },
    {
      "cell_type": "code",
      "execution_count": null,
      "id": "-ftaOfvHSPmb",
      "metadata": {
        "colab": {
          "base_uri": "https://localhost:8080/"
        },
        "id": "-ftaOfvHSPmb",
        "outputId": "bd174fb3-346c-4de0-ef6b-738419144d79"
      },
      "outputs": [
        {
          "name": "stdout",
          "output_type": "stream",
          "text": [
            "+----------+-----------+\n",
            "|CustomerID|       City|\n",
            "+----------+-----------+\n",
            "|      C001|   New York|\n",
            "|      C002|Los Angeles|\n",
            "+----------+-----------+\n",
            "\n"
          ]
        }
      ],
      "source": [
        "#Customers in New York or Los Angeles\n",
        "spark.sql(\"SELECT CustomerID, City FROM Telecom WHERE City IN ('New York', 'Los Angeles')\").show()"
      ]
    },
    {
      "cell_type": "code",
      "execution_count": null,
      "id": "9KfucuuwSPkc",
      "metadata": {
        "colab": {
          "base_uri": "https://localhost:8080/"
        },
        "id": "9KfucuuwSPkc",
        "outputId": "ea36673c-abba-42d2-9065-65e9be01f1a6"
      },
      "outputs": [
        {
          "name": "stdout",
          "output_type": "stream",
          "text": [
            "+----------+--------+\n",
            "|CustomerID|    Plan|\n",
            "+----------+--------+\n",
            "|      C002| Premium|\n",
            "|      C004|Standard|\n",
            "|      C005| Premium|\n",
            "|      C006|Standard|\n",
            "|      C008| Premium|\n",
            "+----------+--------+\n",
            "\n"
          ]
        }
      ],
      "source": [
        "#Customers not on the Basic plan\n",
        "spark.sql(\"SELECT CustomerID, Plan FROM Telecom WHERE Plan != 'Basic'\").show()"
      ]
    },
    {
      "cell_type": "markdown",
      "id": "yD0on1nxSYa6",
      "metadata": {
        "id": "yD0on1nxSYa6"
      },
      "source": [
        "#String operations\n"
      ]
    },
    {
      "cell_type": "code",
      "execution_count": null,
      "id": "LFQn20G4ScVy",
      "metadata": {
        "colab": {
          "base_uri": "https://localhost:8080/"
        },
        "id": "LFQn20G4ScVy",
        "outputId": "dfaa0beb-114d-44f8-ecf0-cb98e51e9571"
      },
      "outputs": [
        {
          "name": "stdout",
          "output_type": "stream",
          "text": [
            "+----------+-------------+\n",
            "|CustomerID|         City|\n",
            "+----------+-------------+\n",
            "|      C006|      Seattle|\n",
            "|      C008|San Francisco|\n",
            "+----------+-------------+\n",
            "\n"
          ]
        }
      ],
      "source": [
        "#Customers whose City starts with 'S'\n",
        "spark.sql(\"SELECT CustomerID, City FROM Telecom WHERE City LIKE 'S%'\").show()"
      ]
    },
    {
      "cell_type": "code",
      "execution_count": null,
      "id": "ps9xlyUvScNj",
      "metadata": {
        "colab": {
          "base_uri": "https://localhost:8080/"
        },
        "id": "ps9xlyUvScNj",
        "outputId": "466682bc-06b5-412d-c4d0-7b049e799c5a"
      },
      "outputs": [
        {
          "name": "stdout",
          "output_type": "stream",
          "text": [
            "+----------+----------+\n",
            "|CustomerID|CityPrefix|\n",
            "+----------+----------+\n",
            "|      C001|       New|\n",
            "|      C002|       Los|\n",
            "|      C003|       Chi|\n",
            "|      C004|       Hou|\n",
            "|      C005|       Pho|\n",
            "|      C006|       Sea|\n",
            "|      C007|       Den|\n",
            "|      C008|       San|\n",
            "+----------+----------+\n",
            "\n"
          ]
        }
      ],
      "source": [
        "#Extract first three letters of the City name\n",
        "spark.sql(\"SELECT CustomerID, SUBSTRING(City, 1, 3) AS CityPrefix FROM Telecom\").show()"
      ]
    },
    {
      "cell_type": "code",
      "execution_count": null,
      "id": "mGSr7EEFScFf",
      "metadata": {
        "colab": {
          "base_uri": "https://localhost:8080/"
        },
        "id": "mGSr7EEFScFf",
        "outputId": "92c76b19-010d-4953-c40e-1b4aa5afcd32"
      },
      "outputs": [
        {
          "name": "stdout",
          "output_type": "stream",
          "text": [
            "+----------+-----------+\n",
            "|CustomerID|       City|\n",
            "+----------+-----------+\n",
            "|      C001|   New York|\n",
            "|      C002|Los Angeles|\n",
            "|      C004|    Houston|\n",
            "|      C005|    Phoenix|\n",
            "|      C007|     Denver|\n",
            "+----------+-----------+\n",
            "\n"
          ]
        }
      ],
      "source": [
        "#Customers whose City does not contain 'a'\n",
        "spark.sql(\"SELECT CustomerID, City FROM Telecom WHERE City NOT LIKE '%a%'\").show()"
      ]
    },
    {
      "cell_type": "markdown",
      "id": "dIbdYmK-SkgW",
      "metadata": {
        "id": "dIbdYmK-SkgW"
      },
      "source": [
        "#SQL Subqueries\n"
      ]
    },
    {
      "cell_type": "code",
      "execution_count": null,
      "id": "ej4tJ8C6SrgO",
      "metadata": {
        "colab": {
          "base_uri": "https://localhost:8080/"
        },
        "id": "ej4tJ8C6SrgO",
        "outputId": "ec3df4e2-2975-4dc4-af57-1c28a91fc6ce"
      },
      "outputs": [
        {
          "name": "stdout",
          "output_type": "stream",
          "text": [
            "+----------+--------------+\n",
            "|CustomerID|MonthlyCharges|\n",
            "+----------+--------------+\n",
            "|      C002|         100.0|\n",
            "|      C005|         120.0|\n",
            "|      C008|         200.0|\n",
            "+----------+--------------+\n",
            "\n"
          ]
        }
      ],
      "source": [
        "#Customers with charges above the average monthly charge\n",
        "spark.sql(\"SELECT CustomerID, MonthlyCharges FROM Telecom WHERE MonthlyCharges > (SELECT AVG(MonthlyCharges) FROM Telecom)\").show()"
      ]
    },
    {
      "cell_type": "code",
      "execution_count": null,
      "id": "ToCZ2yWvSrVQ",
      "metadata": {
        "colab": {
          "base_uri": "https://localhost:8080/"
        },
        "id": "ToCZ2yWvSrVQ",
        "outputId": "70b30073-f2e7-49e4-eee3-52d5f8e4e9bc"
      },
      "outputs": [
        {
          "name": "stdout",
          "output_type": "stream",
          "text": [
            "+----+\n",
            "|City|\n",
            "+----+\n",
            "+----+\n",
            "\n"
          ]
        }
      ],
      "source": [
        "#Cities with total data usage above average\n",
        "spark.sql(\"SELECT City FROM (SELECT City, SUM(DataUsageGB) AS TotalData FROM Telecom GROUP BY City) WHERE TotalData > (SELECT AVG(SUM(DataUsageGB)) OVER() FROM Telecom)\").show()\n"
      ]
    },
    {
      "cell_type": "code",
      "execution_count": null,
      "id": "FN_fvinSSrLU",
      "metadata": {
        "colab": {
          "base_uri": "https://localhost:8080/"
        },
        "id": "FN_fvinSSrLU",
        "outputId": "35ef07db-446a-4598-d428-38a155037770"
      },
      "outputs": [
        {
          "name": "stdout",
          "output_type": "stream",
          "text": [
            "+----------+-----------+\n",
            "|CustomerID|DataUsageGB|\n",
            "+----------+-----------+\n",
            "|      C002|       50.0|\n",
            "|      C005|       60.0|\n",
            "|      C008|      100.0|\n",
            "+----------+-----------+\n",
            "\n"
          ]
        }
      ],
      "source": [
        "#Premium customers with above-average data usage\n",
        "spark.sql(\"SELECT CustomerID, DataUsageGB FROM Telecom WHERE Plan = 'Premium' AND DataUsageGB > (SELECT AVG(DataUsageGB) FROM Telecom)\").show()"
      ]
    },
    {
      "cell_type": "markdown",
      "id": "nZ7prZmpS4Rk",
      "metadata": {
        "id": "nZ7prZmpS4Rk"
      },
      "source": [
        "#Use of IN and DISTINCT\n"
      ]
    },
    {
      "cell_type": "code",
      "execution_count": null,
      "id": "Bp7-YacKS62w",
      "metadata": {
        "colab": {
          "base_uri": "https://localhost:8080/"
        },
        "id": "Bp7-YacKS62w",
        "outputId": "42dfdda0-adea-4739-fae6-868f6b902982"
      },
      "outputs": [
        {
          "name": "stdout",
          "output_type": "stream",
          "text": [
            "+----------+--------+\n",
            "|CustomerID|    City|\n",
            "+----------+--------+\n",
            "|      C001|New York|\n",
            "|      C003| Chicago|\n",
            "|      C005| Phoenix|\n",
            "+----------+--------+\n",
            "\n"
          ]
        }
      ],
      "source": [
        "#Customers in specific cities\n",
        "spark.sql(\"SELECT DISTINCT CustomerID, City FROM Telecom WHERE City IN ('New York', 'Chicago', 'Phoenix')\").show()"
      ]
    },
    {
      "cell_type": "code",
      "execution_count": null,
      "id": "OvbgJp5zS6kp",
      "metadata": {
        "colab": {
          "base_uri": "https://localhost:8080/"
        },
        "id": "OvbgJp5zS6kp",
        "outputId": "3e57857c-6182-4de6-d277-edc2b35051d4"
      },
      "outputs": [
        {
          "name": "stdout",
          "output_type": "stream",
          "text": [
            "+--------+\n",
            "|    Plan|\n",
            "+--------+\n",
            "| Premium|\n",
            "|   Basic|\n",
            "|Standard|\n",
            "+--------+\n",
            "\n"
          ]
        }
      ],
      "source": [
        "#Plans available in the dataset\n",
        "spark.sql(\"SELECT DISTINCT Plan FROM Telecom\").show()"
      ]
    },
    {
      "cell_type": "code",
      "execution_count": null,
      "id": "oxt3TEpIS6d3",
      "metadata": {
        "colab": {
          "base_uri": "https://localhost:8080/"
        },
        "id": "oxt3TEpIS6d3",
        "outputId": "6b11feeb-7207-4b33-88e4-08425aaa7cec"
      },
      "outputs": [
        {
          "name": "stdout",
          "output_type": "stream",
          "text": [
            "+-----+\n",
            "|Churn|\n",
            "+-----+\n",
            "|   No|\n",
            "|  Yes|\n",
            "+-----+\n",
            "\n"
          ]
        }
      ],
      "source": [
        "#Distinct customer churn statuses\n",
        "spark.sql(\"SELECT DISTINCT Churn FROM Telecom\").show()"
      ]
    },
    {
      "cell_type": "markdown",
      "id": "kQrep76zTO4C",
      "metadata": {
        "id": "kQrep76zTO4C"
      },
      "source": [
        "#Use of GROUP BY with HAVING\n"
      ]
    },
    {
      "cell_type": "code",
      "execution_count": null,
      "id": "-isloQD3TSCc",
      "metadata": {
        "colab": {
          "base_uri": "https://localhost:8080/"
        },
        "id": "-isloQD3TSCc",
        "outputId": "7db1a248-9764-42c8-d8cd-dce595b71496"
      },
      "outputs": [
        {
          "name": "stdout",
          "output_type": "stream",
          "text": [
            "+----+-------------+\n",
            "|City|CustomerCount|\n",
            "+----+-------------+\n",
            "+----+-------------+\n",
            "\n"
          ]
        }
      ],
      "source": [
        "#Cities with more than 1 customer\n",
        "spark.sql(\"SELECT City, COUNT(CustomerID) as CustomerCount FROM Telecom GROUP BY City HAVING CustomerCount > 1\").show()"
      ]
    },
    {
      "cell_type": "code",
      "execution_count": null,
      "id": "3yztLYC_TR_I",
      "metadata": {
        "colab": {
          "base_uri": "https://localhost:8080/"
        },
        "id": "3yztLYC_TR_I",
        "outputId": "b34a17cc-ca48-470a-d709-3af79bd24c75"
      },
      "outputs": [
        {
          "name": "stdout",
          "output_type": "stream",
          "text": [
            "+--------+----------+\n",
            "|    Plan|AvgCharges|\n",
            "+--------+----------+\n",
            "| Premium|     140.0|\n",
            "|Standard|      55.0|\n",
            "+--------+----------+\n",
            "\n"
          ]
        }
      ],
      "source": [
        "#Plans with average charges above 50\n",
        "spark.sql(\"SELECT Plan, AVG(MonthlyCharges) as AvgCharges FROM Telecom GROUP BY Plan HAVING AvgCharges > 50\").show()"
      ]
    },
    {
      "cell_type": "code",
      "execution_count": null,
      "id": "_O-hBJHeTR8s",
      "metadata": {
        "colab": {
          "base_uri": "https://localhost:8080/"
        },
        "id": "_O-hBJHeTR8s",
        "outputId": "bb53e285-6a1d-4ced-81a4-1afcf510e248"
      },
      "outputs": [
        {
          "name": "stdout",
          "output_type": "stream",
          "text": [
            "+----+--------------+\n",
            "|City|TotalDataUsage|\n",
            "+----+--------------+\n",
            "+----+--------------+\n",
            "\n"
          ]
        }
      ],
      "source": [
        "#Cities with total data usage greater than 100\n",
        "spark.sql(\"SELECT City, SUM(DataUsageGB) as TotalDataUsage FROM Telecom GROUP BY City HAVING TotalDataUsage > 100\").show()"
      ]
    },
    {
      "cell_type": "markdown",
      "id": "EI1XCRZITcBK",
      "metadata": {
        "id": "EI1XCRZITcBK"
      },
      "source": [
        "#Use of CASE\n"
      ]
    },
    {
      "cell_type": "code",
      "execution_count": null,
      "id": "Z-PYopOOTeu_",
      "metadata": {
        "colab": {
          "base_uri": "https://localhost:8080/"
        },
        "id": "Z-PYopOOTeu_",
        "outputId": "a0113a33-0331-4ba1-f6b9-28a4148f07f6"
      },
      "outputs": [
        {
          "name": "stdout",
          "output_type": "stream",
          "text": [
            "+----------+--------------+--------------+\n",
            "|CustomerID|MonthlyCharges|ChargeCategory|\n",
            "+----------+--------------+--------------+\n",
            "|      C001|          20.0|           Low|\n",
            "|      C002|         100.0|        Medium|\n",
            "|      C003|          25.0|           Low|\n",
            "|      C004|          50.0|        Medium|\n",
            "|      C005|         120.0|          High|\n",
            "|      C006|          60.0|        Medium|\n",
            "|      C007|          15.0|           Low|\n",
            "|      C008|         200.0|          High|\n",
            "+----------+--------------+--------------+\n",
            "\n"
          ]
        }
      ],
      "source": [
        "#Categorize customers based on MonthlyCharges\n",
        "spark.sql(\"SELECT CustomerID, MonthlyCharges, CASE WHEN MonthlyCharges < 50 THEN 'Low' WHEN MonthlyCharges BETWEEN 50 AND 100 THEN 'Medium' ELSE 'High' END AS ChargeCategory FROM Telecom\").show()"
      ]
    },
    {
      "cell_type": "code",
      "execution_count": null,
      "id": "AH0hORXgTemh",
      "metadata": {
        "colab": {
          "base_uri": "https://localhost:8080/"
        },
        "id": "AH0hORXgTemh",
        "outputId": "8d3d220a-d702-4d37-cadc-8a64dbc0f24c"
      },
      "outputs": [
        {
          "name": "stdout",
          "output_type": "stream",
          "text": [
            "+----------+------------+--------------+\n",
            "|CustomerID|TenureMonths|TenureCategory|\n",
            "+----------+------------+--------------+\n",
            "|      C001|          12|        Medium|\n",
            "|      C002|          24|        Medium|\n",
            "|      C003|           8|         Short|\n",
            "|      C004|          15|        Medium|\n",
            "|      C005|          30|          Long|\n",
            "|      C006|          18|        Medium|\n",
            "|      C007|           5|         Short|\n",
            "|      C008|          36|          Long|\n",
            "+----------+------------+--------------+\n",
            "\n"
          ]
        }
      ],
      "source": [
        "#Categorize tenure into short, medium, and long\n",
        "spark.sql(\"SELECT CustomerID, TenureMonths, CASE WHEN TenureMonths < 12 THEN 'Short' WHEN TenureMonths BETWEEN 12 AND 24 THEN 'Medium' ELSE 'Long' END AS TenureCategory FROM Telecom\").show()"
      ]
    },
    {
      "cell_type": "code",
      "execution_count": null,
      "id": "fvYaAIAfTebi",
      "metadata": {
        "colab": {
          "base_uri": "https://localhost:8080/"
        },
        "id": "fvYaAIAfTebi",
        "outputId": "5b7249a6-46b4-421f-d70d-b1ed7f622e0d"
      },
      "outputs": [
        {
          "name": "stdout",
          "output_type": "stream",
          "text": [
            "+----------+-----------+-------------+\n",
            "|CustomerID|DataUsageGB|UsageCategory|\n",
            "+----------+-----------+-------------+\n",
            "|      C001|        2.5| Normal Usage|\n",
            "|      C002|       50.0| Normal Usage|\n",
            "|      C003|        3.0| Normal Usage|\n",
            "|      C004|       10.0| Normal Usage|\n",
            "|      C005|       60.0|   High Usage|\n",
            "|      C006|       20.0| Normal Usage|\n",
            "|      C007|        1.0| Normal Usage|\n",
            "|      C008|      100.0|   High Usage|\n",
            "+----------+-----------+-------------+\n",
            "\n"
          ]
        }
      ],
      "source": [
        "#Flag customers based on data usage\n",
        "spark.sql(\"SELECT CustomerID, DataUsageGB, CASE WHEN DataUsageGB > 50 THEN 'High Usage' ELSE 'Normal Usage' END AS UsageCategory FROM Telecom\").show()"
      ]
    },
    {
      "cell_type": "markdown",
      "id": "bVFmAujSeNaE",
      "metadata": {
        "id": "bVFmAujSeNaE"
      },
      "source": [
        "\n",
        "\n",
        "```\n",
        "# telecom_data = [\n",
        "    (\"C001\", \"Basic\", \"New York\", 2.5, 20.0, 12, \"No\"),\n",
        "    (\"C002\", \"Premium\", \"Los Angeles\", 50.0, 100.0, 24, \"Yes\"),\n",
        "    (\"C003\", \"Basic\", \"Chicago\", 3.0, 25.0, 8, \"No\"),\n",
        "    (\"C004\", \"Standard\", \"Houston\", 10.0, 50.0, 15, \"No\"),\n",
        "    (\"C005\", \"Premium\", \"Phoenix\", 60.0, 120.0, 30, \"Yes\"),\n",
        "    (\"C006\", \"Standard\", \"Seattle\", 20.0, 60.0, 18, \"No\"),\n",
        "    (\"C007\", \"Basic\", \"Denver\", 1.0, 15.0, 5, \"No\"),\n",
        "    (\"C008\", \"Premium\", \"San Francisco\", 100.0, 200.0, 36, \"Yes\")\n",
        "]\n",
        "```\n",
        "\n"
      ]
    },
    {
      "cell_type": "code",
      "execution_count": null,
      "id": "noxxPYt0eQFP",
      "metadata": {
        "id": "noxxPYt0eQFP"
      },
      "outputs": [],
      "source": [
        "# Define schema for synthetic telecom dataset\n",
        "schema = StructType([\n",
        "    StructField(\"CustomerID\", StringType(), True),\n",
        "    StructField(\"Plan\", StringType(), True),\n",
        "    StructField(\"City\", StringType(), True),\n",
        "    StructField(\"DataUsageGB\", FloatType(), True),\n",
        "    StructField(\"MonthlyCharges\", FloatType(), True),\n",
        "    StructField(\"TenureMonths\", IntegerType(), True),\n",
        "    StructField(\"Churn\", StringType(), True)\n",
        "])"
      ]
    },
    {
      "cell_type": "code",
      "execution_count": null,
      "id": "KFmBLKX6eVrG",
      "metadata": {
        "id": "KFmBLKX6eVrG"
      },
      "outputs": [],
      "source": [
        "# Create synthetic dataset\n",
        "telecom_data = [\n",
        "    (\"C001\", \"Basic\", \"New York\", 2.5, 20.0, 12, \"No\"),\n",
        "    (\"C002\", \"Premium\", \"Los Angeles\", 50.0, 100.0, 24, \"Yes\"),\n",
        "    (\"C003\", \"Basic\", \"Chicago\", 3.0, 25.0, 8, \"No\"),\n",
        "    (\"C004\", \"Standard\", \"Houston\", 10.0, 50.0, 15, \"No\"),\n",
        "    (\"C005\", \"Premium\", \"Phoenix\", 60.0, 120.0, 30, \"Yes\"),\n",
        "    (\"C006\", \"Standard\", \"Seattle\", 20.0, 60.0, 18, \"No\"),\n",
        "    (\"C007\", \"Basic\", \"Denver\", 1.0, 15.0, 5, \"No\"),\n",
        "    (\"C008\", \"Premium\", \"San Francisco\", 100.0, 200.0, 36, \"Yes\")\n",
        "]"
      ]
    },
    {
      "cell_type": "code",
      "execution_count": null,
      "id": "JfzDm4EueaTQ",
      "metadata": {
        "id": "JfzDm4EueaTQ"
      },
      "outputs": [],
      "source": [
        "# Create DataFrame\n",
        "df = spark.createDataFrame(telecom_data, schema=schema)"
      ]
    },
    {
      "cell_type": "code",
      "execution_count": null,
      "id": "V9_FIfp3ecFT",
      "metadata": {
        "colab": {
          "base_uri": "https://localhost:8080/"
        },
        "id": "V9_FIfp3ecFT",
        "outputId": "8f1d6cd1-b7d1-4353-a0da-e9eef4e94d17"
      },
      "outputs": [
        {
          "name": "stdout",
          "output_type": "stream",
          "text": [
            "+----------+--------+-------------+-----------+--------------+------------+-----+\n",
            "|CustomerID|    Plan|         City|DataUsageGB|MonthlyCharges|TenureMonths|Churn|\n",
            "+----------+--------+-------------+-----------+--------------+------------+-----+\n",
            "|      C001|   Basic|     New York|        2.5|          20.0|          12|   No|\n",
            "|      C002| Premium|  Los Angeles|       50.0|         100.0|          24|  Yes|\n",
            "|      C003|   Basic|      Chicago|        3.0|          25.0|           8|   No|\n",
            "|      C004|Standard|      Houston|       10.0|          50.0|          15|   No|\n",
            "|      C005| Premium|      Phoenix|       60.0|         120.0|          30|  Yes|\n",
            "|      C006|Standard|      Seattle|       20.0|          60.0|          18|   No|\n",
            "|      C007|   Basic|       Denver|        1.0|          15.0|           5|   No|\n",
            "|      C008| Premium|San Francisco|      100.0|         200.0|          36|  Yes|\n",
            "+----------+--------+-------------+-----------+--------------+------------+-----+\n",
            "\n"
          ]
        }
      ],
      "source": [
        "# Display the DataFrame\n",
        "df.show()"
      ]
    },
    {
      "cell_type": "code",
      "execution_count": null,
      "id": "rhX2uCabee5Z",
      "metadata": {
        "id": "rhX2uCabee5Z"
      },
      "outputs": [],
      "source": [
        "# Register DataFrame as SQL temporary view\n",
        "df.createOrReplaceTempView(\"Telecom\")"
      ]
    },
    {
      "cell_type": "markdown",
      "id": "wQjYjF8lemzw",
      "metadata": {
        "id": "wQjYjF8lemzw"
      },
      "source": [
        "Example SQL Queries:\n"
      ]
    },
    {
      "cell_type": "code",
      "execution_count": null,
      "id": "19PRDpW8eiuS",
      "metadata": {
        "colab": {
          "base_uri": "https://localhost:8080/"
        },
        "id": "19PRDpW8eiuS",
        "outputId": "6c308ce6-c168-421c-fd87-f8fdcdad6ffb"
      },
      "outputs": [
        {
          "name": "stdout",
          "output_type": "stream",
          "text": [
            "+----------+-------+-------------+-----------+--------------+------------+-----+\n",
            "|CustomerID|   Plan|         City|DataUsageGB|MonthlyCharges|TenureMonths|Churn|\n",
            "+----------+-------+-------------+-----------+--------------+------------+-----+\n",
            "|      C002|Premium|  Los Angeles|       50.0|         100.0|          24|  Yes|\n",
            "|      C005|Premium|      Phoenix|       60.0|         120.0|          30|  Yes|\n",
            "|      C008|Premium|San Francisco|      100.0|         200.0|          36|  Yes|\n",
            "+----------+-------+-------------+-----------+--------------+------------+-----+\n",
            "\n"
          ]
        }
      ],
      "source": [
        "# Find all customers who churned.\n",
        "# Expected Result: Customers who have churned ('Yes')\n",
        "spark.sql(\"SELECT * FROM Telecom WHERE Churn = 'Yes'\").show()"
      ]
    },
    {
      "cell_type": "code",
      "execution_count": null,
      "id": "2zJTw5FHeyr7",
      "metadata": {
        "colab": {
          "base_uri": "https://localhost:8080/"
        },
        "id": "2zJTw5FHeyr7",
        "outputId": "15ecaa82-b71e-4655-f60b-8ad8a545e6b1"
      },
      "outputs": [
        {
          "name": "stdout",
          "output_type": "stream",
          "text": [
            "+--------+--------------+\n",
            "|    Plan|AverageCharges|\n",
            "+--------+--------------+\n",
            "| Premium|         140.0|\n",
            "|   Basic|          20.0|\n",
            "|Standard|          55.0|\n",
            "+--------+--------------+\n",
            "\n"
          ]
        }
      ],
      "source": [
        "# Calculate the average monthly charges for each plan.\n",
        "spark.sql(\"SELECT Plan, AVG(MonthlyCharges) AS AverageCharges FROM Telecom GROUP BY Plan\").show()"
      ]
    },
    {
      "cell_type": "code",
      "execution_count": null,
      "id": "CbQdy7zme52h",
      "metadata": {
        "colab": {
          "base_uri": "https://localhost:8080/"
        },
        "id": "CbQdy7zme52h",
        "outputId": "308c9a0b-8707-4a1e-9034-3c5378a28c08"
      },
      "outputs": [
        {
          "name": "stdout",
          "output_type": "stream",
          "text": [
            "+----------+-----------+\n",
            "|CustomerID|DataUsageGB|\n",
            "+----------+-----------+\n",
            "|      C008|      100.0|\n",
            "+----------+-----------+\n",
            "\n"
          ]
        }
      ],
      "source": [
        "# Find the customer with the highest data usage.\n",
        "spark.sql(\"SELECT CustomerID, DataUsageGB FROM Telecom ORDER BY DataUsageGB DESC LIMIT 1\").show()"
      ]
    },
    {
      "cell_type": "code",
      "execution_count": null,
      "id": "CvLEKWjWe9mL",
      "metadata": {
        "colab": {
          "base_uri": "https://localhost:8080/"
        },
        "id": "CvLEKWjWe9mL",
        "outputId": "a80cfca5-f03a-4734-ed71-28ec7af596f6"
      },
      "outputs": [
        {
          "name": "stdout",
          "output_type": "stream",
          "text": [
            "+----------+------------+--------------+\n",
            "|CustomerID|TenureMonths|MonthlyCharges|\n",
            "+----------+------------+--------------+\n",
            "|      C004|          15|          50.0|\n",
            "+----------+------------+--------------+\n",
            "\n"
          ]
        }
      ],
      "source": [
        "# List customers with tenure greater than 1 year and monthly charges less than $60.\n",
        "spark.sql(\"SELECT CustomerID, TenureMonths, MonthlyCharges FROM Telecom WHERE TenureMonths > 12 AND MonthlyCharges < 60\").show()"
      ]
    },
    {
      "cell_type": "code",
      "execution_count": null,
      "id": "tHliSEQ-fIhK",
      "metadata": {
        "colab": {
          "base_uri": "https://localhost:8080/"
        },
        "id": "tHliSEQ-fIhK",
        "outputId": "9fe30d96-c3e3-4407-f5d4-83e1f5c377f7"
      },
      "outputs": [
        {
          "name": "stdout",
          "output_type": "stream",
          "text": [
            "+-------------+-------------+\n",
            "|         City|CustomerCount|\n",
            "+-------------+-------------+\n",
            "|  Los Angeles|            1|\n",
            "|      Chicago|            1|\n",
            "|      Houston|            1|\n",
            "|     New York|            1|\n",
            "|      Phoenix|            1|\n",
            "|San Francisco|            1|\n",
            "|      Seattle|            1|\n",
            "|       Denver|            1|\n",
            "+-------------+-------------+\n",
            "\n"
          ]
        }
      ],
      "source": [
        "# Count the number of customers in each city.\n",
        "spark.sql(\"SELECT City, COUNT(*) AS CustomerCount FROM Telecom GROUP BY City\").show()"
      ]
    },
    {
      "cell_type": "code",
      "execution_count": null,
      "id": "jUjt9dLXfOVQ",
      "metadata": {
        "id": "jUjt9dLXfOVQ"
      },
      "outputs": [],
      "source": []
    }
  ],
  "metadata": {
    "colab": {
      "provenance": []
    },
    "kernelspec": {
      "display_name": "Python 3",
      "name": "python3"
    },
    "language_info": {
      "name": "python"
    }
  },
  "nbformat": 4,
  "nbformat_minor": 5
}
