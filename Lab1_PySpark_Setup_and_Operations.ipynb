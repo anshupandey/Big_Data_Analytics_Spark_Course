{
  "cells": [
    {
      "cell_type": "markdown",
      "id": "970b0727",
      "metadata": {
        "id": "970b0727"
      },
      "source": [
        "### Lab 1: Setting Up and Exploring PySpark Environment"
      ]
    },
    {
      "cell_type": "markdown",
      "id": "9338d361",
      "metadata": {},
      "source": [
        "## Tasks\n",
        "\n",
        "1. **Setup and Explore PySpark Environment**\n",
        "    - Install and configure PySpark.\n",
        "    - Verify the installation.\n",
        "    - Configure the environment variables for Java and Spark.\n",
        "\n",
        "2. **Initialize PySpark**\n",
        "    - Initialize a `SparkSession`.\n",
        "    - Access the `SparkContext`.\n",
        "\n",
        "3. **Create and Explore RDDs**\n",
        "    - Create RDDs from sample telecom data.\n",
        "    - Perform basic RDD transformations and actions:\n",
        "      - Map Transformation\n",
        "      - Filter Transformation\n",
        "      - FlatMap Transformation\n",
        "      - Distinct Transformation\n",
        "      - Union Transformation\n",
        "      - Sample Transformation\n",
        "      - Collect Action\n",
        "      - Count Action\n",
        "      - Take Action\n",
        "\n",
        "4. **Case Study: Identification of Gold Plan Customers**\n",
        "    - Create RDDs from updated telecom and user data.\n",
        "    - Perform join operations to combine call data with user data.\n",
        "    - Filter for Gold plan users.\n",
        "    - Filter for outgoing calls.\n",
        "    - Identify Gold users with more than 10-minute outgoing calls in December 2024.\n",
        "\n",
        "5. **Cleanup**\n",
        "    - Stop the `SparkContext`."
      ]
    },
    {
      "cell_type": "markdown",
      "id": "91c6409b",
      "metadata": {
        "id": "91c6409b"
      },
      "source": [
        "## 1. Installing and Configuring PySpark"
      ]
    },
    {
      "cell_type": "markdown",
      "id": "7e84e641",
      "metadata": {
        "id": "7e84e641"
      },
      "source": [
        "### Step 1: Install PySpark\n",
        "PySpark can be installed via pip, which is the simplest way to set it up in Python environments."
      ]
    },
    {
      "cell_type": "code",
      "execution_count": null,
      "id": "uMpIhUjpLKpl",
      "metadata": {
        "id": "uMpIhUjpLKpl"
      },
      "outputs": [],
      "source": [
        "!apt-get install openjdk-8-jdk-headless -qq > /dev/null\n",
        "!wget -q https://dlcdn.apache.org/spark/spark-3.5.3/spark-3.5.3-bin-hadoop3.tgz\n",
        "\n",
        "!tar xzf spark-3.5.3-bin-hadoop3.tgz"
      ]
    },
    {
      "cell_type": "code",
      "execution_count": null,
      "id": "7dbf1eca",
      "metadata": {
        "colab": {
          "base_uri": "https://localhost:8080/"
        },
        "id": "7dbf1eca",
        "outputId": "43ff4618-8e82-48f8-e9d8-a42426dae4e9"
      },
      "outputs": [
        {
          "name": "stdout",
          "output_type": "stream",
          "text": [
            "Requirement already satisfied: pyspark in /usr/local/lib/python3.10/dist-packages (3.5.3)\n",
            "Requirement already satisfied: py4j==0.10.9.7 in /usr/local/lib/python3.10/dist-packages (from pyspark) (0.10.9.7)\n"
          ]
        }
      ],
      "source": [
        "!pip install pyspark\n",
        "!pip install -q findspark"
      ]
    },
    {
      "cell_type": "markdown",
      "id": "e43411cd",
      "metadata": {
        "id": "e43411cd"
      },
      "source": [
        "### Step 2: Verify Installation\n",
        "Ensure PySpark is installed by checking its version."
      ]
    },
    {
      "cell_type": "code",
      "execution_count": null,
      "id": "3cd70be3",
      "metadata": {
        "colab": {
          "base_uri": "https://localhost:8080/"
        },
        "id": "3cd70be3",
        "outputId": "99311aa3-a4d8-4e10-8798-e1da8864333f"
      },
      "outputs": [
        {
          "name": "stdout",
          "output_type": "stream",
          "text": [
            "PySpark Version: 3.5.3\n"
          ]
        }
      ],
      "source": [
        "import pyspark\n",
        "print(\"PySpark Version:\", pyspark.__version__)"
      ]
    },
    {
      "cell_type": "markdown",
      "id": "0b8acebe",
      "metadata": {
        "id": "0b8acebe"
      },
      "source": [
        "### Step 3: Environment Configuration\n",
        "PySpark requires Java for execution. Ensure Java 8 or 11 is installed.\n",
        "If you encounter configuration issues, set the environment variables explicitly."
      ]
    },
    {
      "cell_type": "code",
      "execution_count": null,
      "id": "7ba7836f",
      "metadata": {
        "id": "7ba7836f"
      },
      "outputs": [],
      "source": [
        "import os\n",
        "os.environ[\"JAVA_HOME\"] = \"/path/to/java\"  # Replace with your Java path\n",
        "os.environ[\"SPARK_HOME\"] = \"/path/to/spark\"  # Replace with your Spark path"
      ]
    },
    {
      "cell_type": "code",
      "execution_count": null,
      "id": "FeDk5FVTLTjf",
      "metadata": {
        "id": "FeDk5FVTLTjf"
      },
      "outputs": [],
      "source": [
        "import os\n",
        "os.environ[\"JAVA_HOME\"] = \"/usr/lib/jvm/java-8-openjdk-amd64\"\n",
        "os.environ[\"SPARK_HOME\"] = \"/content/spark-3.5.3-bin-hadoop3\""
      ]
    },
    {
      "cell_type": "markdown",
      "id": "rPAS4MEVNYF2",
      "metadata": {
        "id": "rPAS4MEVNYF2"
      },
      "source": [
        "### **Option: Setup for Google Colab**\n",
        "\n",
        "\n",
        "\n",
        "```\n",
        "  !apt-get install openjdk-8-jdk-headless -qq > /dev/null\n",
        "\n",
        "  !wget -q https://dlcdn.apache.org/spark/spark-3.5.3/spark-3.5.3-bin-hadoop3.tgz\n",
        "\n",
        "  !tar xzf spark-3.5.3-bin-hadoop3.tgz\n",
        "```\n",
        "\n",
        "\n",
        "\n",
        "```\n",
        "import os\n",
        "os.environ[\"JAVA_HOME\"] = \"/usr/lib/jvm/java-8-openjdk-amd64\"\n",
        "os.environ[\"SPARK_HOME\"] = \"/content/spark-3.5.3-bin-hadoop3\"\n",
        "```\n",
        "\n",
        "\n"
      ]
    },
    {
      "cell_type": "markdown",
      "id": "08903c0f",
      "metadata": {
        "id": "08903c0f"
      },
      "source": [
        "## 2. Exploring the PySpark Interface"
      ]
    },
    {
      "cell_type": "markdown",
      "id": "c52fbcdd",
      "metadata": {
        "id": "c52fbcdd"
      },
      "source": [
        "### Step 1: Initialize a SparkSession\n",
        "The SparkSession is the entry point to PySpark. It manages configurations and resources."
      ]
    },
    {
      "cell_type": "markdown",
      "id": "OAh7ck__OUSf",
      "metadata": {
        "id": "OAh7ck__OUSf"
      },
      "source": [
        "\n",
        "\n",
        "### Installation\n",
        "\n",
        "- **Java:** PySpark requires a Java Development Kit (JDK).  The code uses `apt-get` (on Linux systems like those found in Google Colab) to install OpenJDK 8.  Ensure Java is correctly installed and configured on your system.\n",
        "- **Spark:** The code downloads a pre-built Spark distribution from Apache's website. Adjust the URL if needed to download the correct version for your use case.\n",
        "- **PySpark and findspark:** The `pip` command installs the PySpark Python library and the `findspark` package. `findspark` simplifies the process of finding the Spark installation within your Python environment.\n"
      ]
    },
    {
      "cell_type": "code",
      "execution_count": null,
      "id": "67e40cc0",
      "metadata": {
        "colab": {
          "base_uri": "https://localhost:8080/"
        },
        "id": "67e40cc0",
        "outputId": "f55c17bd-773d-4735-cf5f-147c5524ba9b"
      },
      "outputs": [
        {
          "name": "stdout",
          "output_type": "stream",
          "text": [
            "SparkSession Created\n"
          ]
        }
      ],
      "source": [
        "from pyspark.sql import SparkSession\n",
        "\n",
        "spark = SparkSession.builder \\\n",
        "    .appName(\"PySpark Exploration\") \\\n",
        "    .getOrCreate()\n",
        "\n",
        "print(\"SparkSession Created\")"
      ]
    },
    {
      "cell_type": "markdown",
      "id": "c7201289",
      "metadata": {
        "id": "c7201289"
      },
      "source": [
        "### Step 2: Access SparkContext\n",
        "The SparkContext allows interaction with the underlying cluster and execution engine."
      ]
    },
    {
      "cell_type": "code",
      "execution_count": null,
      "id": "6006a4db",
      "metadata": {
        "colab": {
          "base_uri": "https://localhost:8080/"
        },
        "id": "6006a4db",
        "outputId": "9e13bb99-ebdc-46b1-d559-4adc0c90ceac"
      },
      "outputs": [
        {
          "name": "stdout",
          "output_type": "stream",
          "text": [
            "SparkContext Initialized\n",
            "Application Name: PySpark Exploration\n"
          ]
        }
      ],
      "source": [
        "sc = spark.sparkContext\n",
        "print(\"SparkContext Initialized\")\n",
        "print(\"Application Name:\", sc.appName)"
      ]
    },
    {
      "cell_type": "markdown",
      "id": "4b6530f2",
      "metadata": {
        "id": "4b6530f2"
      },
      "source": [
        "## 3. Running Basic Operations"
      ]
    },
    {
      "cell_type": "markdown",
      "id": "3LnlGyiWOr4t",
      "metadata": {
        "id": "3LnlGyiWOr4t"
      },
      "source": [
        "\n",
        "### PySpark RDDs\n",
        "\n",
        "### What are RDDs?\n",
        "\n",
        "Resilient Distributed Datasets (RDDs) are the fundamental data structure in Spark.  They represent a collection of elements partitioned across a cluster of machines.  RDDs are immutable, meaning once created, their contents cannot be changed.  Instead of modifying an RDD, you create a new RDD based on transformations applied to the original.  This immutability allows Spark to efficiently manage and optimize data processing.\n",
        "\n",
        "### Key Characteristics of RDDs:\n",
        "\n",
        "* **Immutability:** RDDs are read-only. Transformations create new RDDs.\n",
        "* **Fault Tolerance:** RDDs are resilient to failures. If a node fails, Spark can reconstruct the lost data from its lineage (the sequence of transformations that led to the RDD).\n",
        "* **Partitioning:** RDDs are divided into partitions, which are distributed across the cluster. This allows for parallel processing.\n",
        "* **Lazy Evaluation:** Transformations are not executed immediately. Instead, they are recorded as a directed acyclic graph (DAG) of operations.  Actions trigger the execution of the entire DAG.\n",
        "* **Persistence (Caching):**  You can persist an RDD in memory or on disk to speed up subsequent operations that require the same data.\n",
        "\n",
        "### Creating RDDs:\n",
        "\n",
        "There are two primary ways to create RDDs:\n",
        "\n",
        "1. **From a file:**\n",
        "   ```python\n",
        "   rdd = sc.textFile(\"path/to/file.txt\")\n",
        "   ```\n",
        "\n",
        "2. **From a Python collection:**\n",
        "   ```python\n",
        "   data = [1, 2, 3, 4, 5]\n",
        "   rdd = sc.parallelize(data)\n",
        "   ```\n",
        "\n",
        "\n",
        "### RDD Transformations:\n",
        "\n",
        "Transformations create new RDDs from existing ones.  Examples include:\n",
        "\n",
        "* **`map(func)`:** Applies a function to each element.\n",
        "* **`filter(func)`:** Filters elements based on a condition.\n",
        "* **`flatMap(func)`:** Applies a function that returns multiple elements for each input element.\n",
        "* **`distinct()`:** Removes duplicate elements.\n",
        "* **`union(otherRDD)`:** Combines two RDDs.\n",
        "* **`intersection(otherRDD)`:** Returns the common elements of two RDDs.\n",
        "* **`subtract(otherRDD)`:** Returns elements in the first RDD that are not in the second.\n",
        "* **`join(otherRDD)`:** Performs an inner join of two RDDs based on a key.\n",
        "* **`cogroup(otherRDD)`:** Groups elements from two RDDs based on a key.\n",
        "* **`reduceByKey(func)`:** Reduces values by key.\n",
        "* **`sortByKey()`:** Sorts elements by key.\n",
        "* **`groupByKey()`:** Groups elements by key.\n",
        "\n",
        "### RDD Actions:\n",
        "\n",
        "Actions trigger the execution of transformations and return results to the driver program.  Examples include:\n",
        "\n",
        "* **`collect()`:** Returns all elements as a Python list.\n",
        "* **`count()`:** Returns the number of elements.\n",
        "* **`first()`:** Returns the first element.\n",
        "* **`take(n)`:** Returns the first `n` elements.\n",
        "* **`reduce(func)`:** Reduces elements to a single value.\n",
        "* **`saveAsTextFile(\"path\")`:** Saves the RDD to a text file.\n",
        "* **`countByKey()`:** Returns counts of elements by key.\n",
        "\n"
      ]
    },
    {
      "cell_type": "markdown",
      "id": "ec2f8af9",
      "metadata": {
        "id": "ec2f8af9"
      },
      "source": [
        "### Step 1: Create an RDD (Resilient Distributed Dataset)\n",
        "An RDD is the fundamental distributed data structure in PySpark."
      ]
    },
    {
      "cell_type": "code",
      "execution_count": null,
      "id": "6sdWQrJ1EWWZ",
      "metadata": {
        "id": "6sdWQrJ1EWWZ"
      },
      "outputs": [],
      "source": [
        "# Import necessary libraries\n",
        "from pyspark import SparkContext\n",
        "\n",
        "\n",
        "# Sample Telecom Data (Call Records and User Data)\n",
        "call_data = [\n",
        "    (\"user1\", \"2024-12-19\", \"IN\", 5),\n",
        "    (\"user2\", \"2024-12-19\", \"OUT\", 15),\n",
        "    (\"user3\", \"2024-12-19\", \"IN\", 7),\n",
        "    (\"user1\", \"2024-12-20\", \"OUT\", 20),\n",
        "    (\"user2\", \"2024-12-20\", \"IN\", 10),\n",
        "    (\"user3\", \"2024-12-20\", \"OUT\", 30),\n",
        "    (\"user4\", \"2024-12-20\", \"IN\", 12),\n",
        "    (\"user5\", \"2024-12-19\", \"OUT\", 25)\n",
        "]"
      ]
    },
    {
      "cell_type": "code",
      "execution_count": null,
      "id": "VmJrCnAXE-L5",
      "metadata": {
        "colab": {
          "base_uri": "https://localhost:8080/"
        },
        "id": "VmJrCnAXE-L5",
        "outputId": "ab6a5654-5461-4730-b13a-5b01eb139b67"
      },
      "outputs": [
        {
          "data": {
            "text/plain": [
              "ParallelCollectionRDD[0] at readRDDFromFile at PythonRDD.scala:289"
            ]
          },
          "execution_count": 4,
          "metadata": {},
          "output_type": "execute_result"
        }
      ],
      "source": [
        "# Create RDDs\n",
        "call_rdd = sc.parallelize(call_data)\n",
        "call_rdd"
      ]
    },
    {
      "cell_type": "markdown",
      "id": "dQUDd3VZHPTM",
      "metadata": {
        "id": "dQUDd3VZHPTM"
      },
      "source": [
        "# 1. Basic RDD Transformations and Actions\n"
      ]
    },
    {
      "cell_type": "code",
      "execution_count": null,
      "id": "sr6nPcL4FAlE",
      "metadata": {
        "colab": {
          "base_uri": "https://localhost:8080/"
        },
        "id": "sr6nPcL4FAlE",
        "outputId": "267ebb28-dc82-4fef-929d-37f8bd2c8139"
      },
      "outputs": [
        {
          "name": "stdout",
          "output_type": "stream",
          "text": [
            "Sample Call Data: [('user1', '2024-12-19', 'IN', 5), ('user2', '2024-12-19', 'OUT', 15), ('user3', '2024-12-19', 'IN', 7)]\n"
          ]
        }
      ],
      "source": [
        "print(\"Sample Call Data:\", call_rdd.take(3))  # Display first 3 rows"
      ]
    },
    {
      "cell_type": "markdown",
      "id": "oa9SVKgKHR4W",
      "metadata": {
        "id": "oa9SVKgKHR4W"
      },
      "source": [
        "# Map Transformation: Extracting call durations\n"
      ]
    },
    {
      "cell_type": "code",
      "execution_count": null,
      "id": "o7C0BrFHFAhi",
      "metadata": {
        "colab": {
          "base_uri": "https://localhost:8080/"
        },
        "id": "o7C0BrFHFAhi",
        "outputId": "6c8da4bb-d447-4908-a2ba-6a79fb6c44a9"
      },
      "outputs": [
        {
          "name": "stdout",
          "output_type": "stream",
          "text": [
            "Call Durations: [5, 15, 7, 20, 10, 30, 12, 25]\n"
          ]
        }
      ],
      "source": [
        "call_durations = call_rdd.map(lambda x: x[3])\n",
        "print(\"Call Durations:\", call_durations.collect())"
      ]
    },
    {
      "cell_type": "code",
      "execution_count": null,
      "id": "8Pmte2VzFM5-",
      "metadata": {
        "colab": {
          "base_uri": "https://localhost:8080/"
        },
        "id": "8Pmte2VzFM5-",
        "outputId": "260aa1b0-c8cd-4f76-bed0-efba71d6bc90"
      },
      "outputs": [
        {
          "name": "stdout",
          "output_type": "stream",
          "text": [
            "Call Types: ['IN', 'OUT', 'IN', 'OUT', 'IN', 'OUT', 'IN', 'OUT']\n"
          ]
        }
      ],
      "source": [
        "# Example 1: Extract call types\n",
        "call_types = call_rdd.map(lambda x: x[2])\n",
        "print(\"Call Types:\", call_types.collect())"
      ]
    },
    {
      "cell_type": "code",
      "execution_count": null,
      "id": "SWkI6pxtFM2a",
      "metadata": {
        "colab": {
          "base_uri": "https://localhost:8080/"
        },
        "id": "SWkI6pxtFM2a",
        "outputId": "157b6973-de23-4838-f493-aa39de4e791d"
      },
      "outputs": [
        {
          "name": "stdout",
          "output_type": "stream",
          "text": [
            "User IDs: ['user1', 'user2', 'user3', 'user1', 'user2', 'user3', 'user4', 'user5']\n"
          ]
        }
      ],
      "source": [
        "# Example 2: Extract user IDs\n",
        "user_ids = call_rdd.map(lambda x: x[0])\n",
        "print(\"User IDs:\", user_ids.collect())"
      ]
    },
    {
      "cell_type": "code",
      "execution_count": null,
      "id": "LoIH4umTFM0R",
      "metadata": {
        "colab": {
          "base_uri": "https://localhost:8080/"
        },
        "id": "LoIH4umTFM0R",
        "outputId": "2140d564-16eb-4510-f271-60d1cf6e5e12"
      },
      "outputs": [
        {
          "name": "stdout",
          "output_type": "stream",
          "text": [
            "Incremented Durations: [('user1', '2024-12-19', 'IN', 10), ('user2', '2024-12-19', 'OUT', 20), ('user3', '2024-12-19', 'IN', 12), ('user1', '2024-12-20', 'OUT', 25), ('user2', '2024-12-20', 'IN', 15), ('user3', '2024-12-20', 'OUT', 35), ('user4', '2024-12-20', 'IN', 17), ('user5', '2024-12-19', 'OUT', 30)]\n"
          ]
        }
      ],
      "source": [
        "# Example 3: Add a constant value to call durations\n",
        "incremented_durations = call_rdd.map(lambda x: (x[0], x[1], x[2], x[3] + 5))\n",
        "print(\"Incremented Durations:\", incremented_durations.collect())"
      ]
    },
    {
      "cell_type": "markdown",
      "id": "EfHvyJmiHVsp",
      "metadata": {
        "id": "EfHvyJmiHVsp"
      },
      "source": [
        "# Filter Transformation: Calls greater than 10 minutes\n"
      ]
    },
    {
      "cell_type": "code",
      "execution_count": null,
      "id": "Lrc0fu3BFAfB",
      "metadata": {
        "colab": {
          "base_uri": "https://localhost:8080/"
        },
        "id": "Lrc0fu3BFAfB",
        "outputId": "42a018e2-df55-4215-9e6e-0a7a93257e1f"
      },
      "outputs": [
        {
          "name": "stdout",
          "output_type": "stream",
          "text": [
            "Long Calls: [('user2', '2024-12-19', 'OUT', 15), ('user1', '2024-12-20', 'OUT', 20), ('user3', '2024-12-20', 'OUT', 30), ('user4', '2024-12-20', 'IN', 12), ('user5', '2024-12-19', 'OUT', 25)]\n"
          ]
        }
      ],
      "source": [
        "long_calls = call_rdd.filter(lambda x: x[3] > 10)\n",
        "print(\"Long Calls:\", long_calls.collect())"
      ]
    },
    {
      "cell_type": "code",
      "execution_count": null,
      "id": "1YpV_dhdFX9y",
      "metadata": {
        "colab": {
          "base_uri": "https://localhost:8080/"
        },
        "id": "1YpV_dhdFX9y",
        "outputId": "00f19e01-d159-4dfe-ebdc-35b19a55d390"
      },
      "outputs": [
        {
          "name": "stdout",
          "output_type": "stream",
          "text": [
            "Incoming Calls: [('user1', '2024-12-19', 'IN', 5), ('user3', '2024-12-19', 'IN', 7), ('user2', '2024-12-20', 'IN', 10), ('user4', '2024-12-20', 'IN', 12)]\n"
          ]
        }
      ],
      "source": [
        "# Example 1: Filter incoming calls\n",
        "incoming_calls = call_rdd.filter(lambda x: x[2] == \"IN\")\n",
        "print(\"Incoming Calls:\", incoming_calls.collect())"
      ]
    },
    {
      "cell_type": "code",
      "execution_count": null,
      "id": "7s-16exlFX6y",
      "metadata": {
        "colab": {
          "base_uri": "https://localhost:8080/"
        },
        "id": "7s-16exlFX6y",
        "outputId": "a914b7a7-3fc1-4063-c713-1aa4ccb04f56"
      },
      "outputs": [
        {
          "name": "stdout",
          "output_type": "stream",
          "text": [
            "Outgoing Calls: [('user2', '2024-12-19', 'OUT', 15), ('user1', '2024-12-20', 'OUT', 20), ('user3', '2024-12-20', 'OUT', 30), ('user5', '2024-12-19', 'OUT', 25)]\n"
          ]
        }
      ],
      "source": [
        "# Example 2: Filter outgoing calls\n",
        "outgoing_calls = call_rdd.filter(lambda x: x[2] == \"OUT\")\n",
        "print(\"Outgoing Calls:\", outgoing_calls.collect())"
      ]
    },
    {
      "cell_type": "code",
      "execution_count": null,
      "id": "wdPUmrp8FX4A",
      "metadata": {
        "colab": {
          "base_uri": "https://localhost:8080/"
        },
        "id": "wdPUmrp8FX4A",
        "outputId": "2b500cc3-37b6-4015-a2d9-ed01d904de8e"
      },
      "outputs": [
        {
          "name": "stdout",
          "output_type": "stream",
          "text": [
            "Calls on 2024-12-20: [('user1', '2024-12-20', 'OUT', 20), ('user2', '2024-12-20', 'IN', 10), ('user3', '2024-12-20', 'OUT', 30), ('user4', '2024-12-20', 'IN', 12)]\n"
          ]
        }
      ],
      "source": [
        "# Example 3: Filter calls made on a specific date\n",
        "date_specific_calls = call_rdd.filter(lambda x: x[1] == \"2024-12-20\")\n",
        "print(\"Calls on 2024-12-20:\", date_specific_calls.collect())"
      ]
    },
    {
      "cell_type": "markdown",
      "id": "3yfHy5ZpIMNJ",
      "metadata": {
        "id": "3yfHy5ZpIMNJ"
      },
      "source": [
        "# FlatMap Transformation: Split user IDs into individual characters"
      ]
    },
    {
      "cell_type": "code",
      "execution_count": null,
      "id": "ZKII1vAbFlz9",
      "metadata": {
        "colab": {
          "base_uri": "https://localhost:8080/"
        },
        "id": "ZKII1vAbFlz9",
        "outputId": "ca18f786-7390-41c1-f229-ed666a0be6fd"
      },
      "outputs": [
        {
          "name": "stdout",
          "output_type": "stream",
          "text": [
            "Split User IDs: ['u', 's', 'e', 'r', '1', 'u', 's', 'e', 'r', '2', 'u', 's', 'e', 'r', '3', 'u', 's', 'e', 'r', '1', 'u', 's', 'e', 'r', '2', 'u', 's', 'e', 'r', '3', 'u', 's', 'e', 'r', '4', 'u', 's', 'e', 'r', '5']\n"
          ]
        }
      ],
      "source": [
        "split_user_ids = call_rdd.flatMap(lambda x: list(x[0]))\n",
        "print(\"Split User IDs:\", split_user_ids.collect())"
      ]
    },
    {
      "cell_type": "code",
      "execution_count": null,
      "id": "1WzxCcpMFlwi",
      "metadata": {
        "colab": {
          "base_uri": "https://localhost:8080/"
        },
        "id": "1WzxCcpMFlwi",
        "outputId": "116b5d0e-0bdc-40fc-a29d-99702df51929"
      },
      "outputs": [
        {
          "name": "stdout",
          "output_type": "stream",
          "text": [
            "Duplicated Records: [('user1', '2024-12-19', 'IN', 5), ('user1', '2024-12-19', 'IN', 5), ('user2', '2024-12-19', 'OUT', 15), ('user2', '2024-12-19', 'OUT', 15), ('user3', '2024-12-19', 'IN', 7), ('user3', '2024-12-19', 'IN', 7), ('user1', '2024-12-20', 'OUT', 20), ('user1', '2024-12-20', 'OUT', 20), ('user2', '2024-12-20', 'IN', 10), ('user2', '2024-12-20', 'IN', 10), ('user3', '2024-12-20', 'OUT', 30), ('user3', '2024-12-20', 'OUT', 30), ('user4', '2024-12-20', 'IN', 12), ('user4', '2024-12-20', 'IN', 12), ('user5', '2024-12-19', 'OUT', 25), ('user5', '2024-12-19', 'OUT', 25)]\n"
          ]
        }
      ],
      "source": [
        "# Example 1: Duplicate each record\n",
        "duplicated_records = call_rdd.flatMap(lambda x: [x, x])\n",
        "print(\"Duplicated Records:\", duplicated_records.collect())"
      ]
    },
    {
      "cell_type": "code",
      "execution_count": null,
      "id": "MB8n-RH5FluE",
      "metadata": {
        "colab": {
          "base_uri": "https://localhost:8080/"
        },
        "id": "MB8n-RH5FluE",
        "outputId": "086848d0-ccf6-484f-ae41-3941b2a34c52"
      },
      "outputs": [
        {
          "name": "stdout",
          "output_type": "stream",
          "text": [
            "Split Call Types: ['I', 'N', 'O', 'U', 'T', 'I', 'N', 'O', 'U', 'T', 'I', 'N', 'O', 'U', 'T', 'I', 'N', 'O', 'U', 'T']\n"
          ]
        }
      ],
      "source": [
        "# Example 2: Split call types into characters\n",
        "split_call_types = call_rdd.flatMap(lambda x: list(x[2]))\n",
        "print(\"Split Call Types:\", split_call_types.collect())"
      ]
    },
    {
      "cell_type": "code",
      "execution_count": null,
      "id": "iNhuxr9mFuIu",
      "metadata": {
        "colab": {
          "base_uri": "https://localhost:8080/"
        },
        "id": "iNhuxr9mFuIu",
        "outputId": "db978110-e2f9-4639-a7ab-7ba6988d1ef4"
      },
      "outputs": [
        {
          "name": "stdout",
          "output_type": "stream",
          "text": [
            "Generated Ranges: [1, 2, 3, 4, 5, 1, 2, 3, 4, 5, 6, 7, 8, 9, 10, 11, 12, 13, 14, 15, 1, 2, 3, 4, 5, 6, 7, 1, 2, 3, 4, 5, 6, 7, 8, 9, 10, 11, 12, 13, 14, 15, 16, 17, 18, 19, 20, 1, 2, 3, 4, 5, 6, 7, 8, 9, 10, 1, 2, 3, 4, 5, 6, 7, 8, 9, 10, 11, 12, 13, 14, 15, 16, 17, 18, 19, 20, 21, 22, 23, 24, 25, 26, 27, 28, 29, 30, 1, 2, 3, 4, 5, 6, 7, 8, 9, 10, 11, 12, 1, 2, 3, 4, 5, 6, 7, 8, 9, 10, 11, 12, 13, 14, 15, 16, 17, 18, 19, 20, 21, 22, 23, 24, 25]\n"
          ]
        }
      ],
      "source": [
        "# Example 3: Generate ranges from call durations\n",
        "ranges = call_rdd.flatMap(lambda x: range(1, x[3] + 1))\n",
        "print(\"Generated Ranges:\", ranges.collect())"
      ]
    },
    {
      "cell_type": "markdown",
      "id": "aTg0vwu3IQKL",
      "metadata": {
        "id": "aTg0vwu3IQKL"
      },
      "source": [
        "# Distinct Transformation: Remove duplicate user IDs"
      ]
    },
    {
      "cell_type": "code",
      "execution_count": null,
      "id": "RPhTofNEFuFR",
      "metadata": {
        "colab": {
          "base_uri": "https://localhost:8080/"
        },
        "id": "RPhTofNEFuFR",
        "outputId": "2fc92a48-5ca7-4961-de17-8acd978d97b0"
      },
      "outputs": [
        {
          "name": "stdout",
          "output_type": "stream",
          "text": [
            "Unique User IDs: ['user1', 'user2', 'user4', 'user5', 'user3']\n"
          ]
        }
      ],
      "source": [
        "unique_user_ids = user_ids.distinct()\n",
        "print(\"Unique User IDs:\", unique_user_ids.collect())"
      ]
    },
    {
      "cell_type": "code",
      "execution_count": null,
      "id": "nfngBa3CFuCz",
      "metadata": {
        "colab": {
          "base_uri": "https://localhost:8080/"
        },
        "id": "nfngBa3CFuCz",
        "outputId": "c607e803-888b-45ba-dd54-c1fd2f75be01"
      },
      "outputs": [
        {
          "name": "stdout",
          "output_type": "stream",
          "text": [
            "Distinct Call Types: ['OUT', 'IN']\n"
          ]
        }
      ],
      "source": [
        "# Example 1: Get distinct call types\n",
        "distinct_call_types = call_types.distinct()\n",
        "print(\"Distinct Call Types:\", distinct_call_types.collect())"
      ]
    },
    {
      "cell_type": "code",
      "execution_count": null,
      "id": "tQII8HbuFuAj",
      "metadata": {
        "colab": {
          "base_uri": "https://localhost:8080/"
        },
        "id": "tQII8HbuFuAj",
        "outputId": "a13cbbcf-0d53-446a-9bfa-832af9ecd871"
      },
      "outputs": [
        {
          "name": "stdout",
          "output_type": "stream",
          "text": [
            "Distinct Call Type-Duration Pairs: [('IN', 5), ('IN', 7), ('OUT', 20), ('OUT', 30), ('OUT', 15), ('IN', 10), ('IN', 12), ('OUT', 25)]\n"
          ]
        }
      ],
      "source": [
        "# Example 2: Combine call types and durations for distinct pairs\n",
        "distinct_pairs = call_rdd.map(lambda x: (x[2], x[3])).distinct()\n",
        "print(\"Distinct Call Type-Duration Pairs:\", distinct_pairs.collect())"
      ]
    },
    {
      "cell_type": "markdown",
      "id": "Uryd4hHKH83u",
      "metadata": {
        "id": "Uryd4hHKH83u"
      },
      "source": [
        "# Union Transformation: Combine RDDs\n"
      ]
    },
    {
      "cell_type": "code",
      "execution_count": null,
      "id": "gv0ZozzAFlrk",
      "metadata": {
        "colab": {
          "base_uri": "https://localhost:8080/"
        },
        "id": "gv0ZozzAFlrk",
        "outputId": "cf7b6503-91bf-419f-e1ff-715dce1b787b"
      },
      "outputs": [
        {
          "name": "stdout",
          "output_type": "stream",
          "text": [
            "Combined RDD: [('user1', '2024-12-19', 'IN', 5), ('user2', '2024-12-19', 'OUT', 15), ('user3', '2024-12-19', 'IN', 7), ('user1', '2024-12-20', 'OUT', 20), ('user2', '2024-12-20', 'IN', 10), ('user3', '2024-12-20', 'OUT', 30), ('user4', '2024-12-20', 'IN', 12), ('user5', '2024-12-19', 'OUT', 25), ('user6', '2024-12-21', 'IN', 8), ('user7', '2024-12-21', 'OUT', 14)]\n"
          ]
        }
      ],
      "source": [
        "additional_data = [\n",
        "    (\"user6\", \"2024-12-21\", \"IN\", 8),\n",
        "    (\"user7\", \"2024-12-21\", \"OUT\", 14)\n",
        "]\n",
        "additional_rdd = sc.parallelize(additional_data)\n",
        "combined_rdd = call_rdd.union(additional_rdd)\n",
        "print(\"Combined RDD:\", combined_rdd.collect())"
      ]
    },
    {
      "cell_type": "code",
      "execution_count": null,
      "id": "J7y457UqF8F2",
      "metadata": {
        "colab": {
          "base_uri": "https://localhost:8080/"
        },
        "id": "J7y457UqF8F2",
        "outputId": "94e4e22b-275f-44a4-c83d-0ad52f7c3427"
      },
      "outputs": [
        {
          "name": "stdout",
          "output_type": "stream",
          "text": [
            "Union with Empty RDD: [('user1', '2024-12-19', 'IN', 5), ('user2', '2024-12-19', 'OUT', 15), ('user3', '2024-12-19', 'IN', 7), ('user1', '2024-12-20', 'OUT', 20), ('user2', '2024-12-20', 'IN', 10), ('user3', '2024-12-20', 'OUT', 30), ('user4', '2024-12-20', 'IN', 12), ('user5', '2024-12-19', 'OUT', 25)]\n"
          ]
        }
      ],
      "source": [
        "# Example 1: Union with an empty RDD\n",
        "empty_rdd = sc.parallelize([])\n",
        "union_with_empty = call_rdd.union(empty_rdd)\n",
        "print(\"Union with Empty RDD:\", union_with_empty.collect())"
      ]
    },
    {
      "cell_type": "code",
      "execution_count": null,
      "id": "t93WQMDlF8v5",
      "metadata": {
        "colab": {
          "base_uri": "https://localhost:8080/"
        },
        "id": "t93WQMDlF8v5",
        "outputId": "de0c613a-68bb-4f2f-bcfe-ead50f89bf2b"
      },
      "outputs": [
        {
          "name": "stdout",
          "output_type": "stream",
          "text": [
            "Union with Itself: [('user1', '2024-12-19', 'IN', 5), ('user2', '2024-12-19', 'OUT', 15), ('user3', '2024-12-19', 'IN', 7), ('user1', '2024-12-20', 'OUT', 20), ('user2', '2024-12-20', 'IN', 10), ('user3', '2024-12-20', 'OUT', 30), ('user4', '2024-12-20', 'IN', 12), ('user5', '2024-12-19', 'OUT', 25), ('user1', '2024-12-19', 'IN', 5), ('user2', '2024-12-19', 'OUT', 15), ('user3', '2024-12-19', 'IN', 7), ('user1', '2024-12-20', 'OUT', 20), ('user2', '2024-12-20', 'IN', 10), ('user3', '2024-12-20', 'OUT', 30), ('user4', '2024-12-20', 'IN', 12), ('user5', '2024-12-19', 'OUT', 25)]\n"
          ]
        }
      ],
      "source": [
        "# Example 2: Union of RDD with itself\n",
        "duplicate_union = call_rdd.union(call_rdd)\n",
        "print(\"Union with Itself:\", duplicate_union.collect())"
      ]
    },
    {
      "cell_type": "markdown",
      "id": "6zqQy-seIf3Y",
      "metadata": {
        "id": "6zqQy-seIf3Y"
      },
      "source": [
        "# Sample Transformation: Randomly sample records\n"
      ]
    },
    {
      "cell_type": "code",
      "execution_count": null,
      "id": "frm_W1MRF8sf",
      "metadata": {
        "colab": {
          "base_uri": "https://localhost:8080/"
        },
        "id": "frm_W1MRF8sf",
        "outputId": "fe66bcc5-b955-4107-988f-334a69794e53"
      },
      "outputs": [
        {
          "name": "stdout",
          "output_type": "stream",
          "text": [
            "Sampled Records: [('user1', '2024-12-19', 'IN', 5), ('user2', '2024-12-19', 'OUT', 15), ('user1', '2024-12-20', 'OUT', 20)]\n"
          ]
        }
      ],
      "source": [
        "sampled_records = call_rdd.sample(False, 0.5, seed=42)\n",
        "print(\"Sampled Records:\", sampled_records.collect())"
      ]
    },
    {
      "cell_type": "code",
      "execution_count": null,
      "id": "qEm04IZ-F8qG",
      "metadata": {
        "colab": {
          "base_uri": "https://localhost:8080/"
        },
        "id": "qEm04IZ-F8qG",
        "outputId": "5b0d52cf-2d25-4889-b447-121895180d62"
      },
      "outputs": [
        {
          "name": "stdout",
          "output_type": "stream",
          "text": [
            "Sampled with Replacement: [('user4', '2024-12-20', 'IN', 12), ('user4', '2024-12-20', 'IN', 12), ('user4', '2024-12-20', 'IN', 12)]\n"
          ]
        }
      ],
      "source": [
        "# Example 1: Sample with replacement\n",
        "sampled_with_replacement = call_rdd.sample(True, 0.3, seed=42)\n",
        "print(\"Sampled with Replacement:\", sampled_with_replacement.collect())"
      ]
    },
    {
      "cell_type": "code",
      "execution_count": null,
      "id": "OUtidXLTGEjf",
      "metadata": {
        "colab": {
          "base_uri": "https://localhost:8080/"
        },
        "id": "OUtidXLTGEjf",
        "outputId": "591f86c6-2d48-45a5-e8fc-0d3061df40f3"
      },
      "outputs": [
        {
          "name": "stdout",
          "output_type": "stream",
          "text": [
            "Sampled with High Fraction: [('user1', '2024-12-19', 'IN', 5), ('user2', '2024-12-19', 'OUT', 15), ('user3', '2024-12-19', 'IN', 7), ('user1', '2024-12-20', 'OUT', 20), ('user2', '2024-12-20', 'IN', 10), ('user3', '2024-12-20', 'OUT', 30)]\n"
          ]
        }
      ],
      "source": [
        "# Example 2: Sample with a higher fraction\n",
        "sampled_high_fraction = call_rdd.sample(False, 0.8, seed=42)\n",
        "print(\"Sampled with High Fraction:\", sampled_high_fraction.collect())"
      ]
    },
    {
      "cell_type": "markdown",
      "id": "tsqB2drFIiFN",
      "metadata": {
        "id": "tsqB2drFIiFN"
      },
      "source": [
        "# Collect Action: Fetch all records\n"
      ]
    },
    {
      "cell_type": "code",
      "execution_count": null,
      "id": "kmlt8-EpGEgD",
      "metadata": {
        "colab": {
          "base_uri": "https://localhost:8080/"
        },
        "id": "kmlt8-EpGEgD",
        "outputId": "739646b4-e6e3-43a4-93b5-917396b04250"
      },
      "outputs": [
        {
          "name": "stdout",
          "output_type": "stream",
          "text": [
            "All Records: [('user1', '2024-12-19', 'IN', 5), ('user2', '2024-12-19', 'OUT', 15), ('user3', '2024-12-19', 'IN', 7), ('user1', '2024-12-20', 'OUT', 20), ('user2', '2024-12-20', 'IN', 10), ('user3', '2024-12-20', 'OUT', 30), ('user4', '2024-12-20', 'IN', 12), ('user5', '2024-12-19', 'OUT', 25)]\n"
          ]
        }
      ],
      "source": [
        "all_records = call_rdd.collect()\n",
        "print(\"All Records:\", all_records)"
      ]
    },
    {
      "cell_type": "markdown",
      "id": "1GNDI5JkIkdH",
      "metadata": {
        "id": "1GNDI5JkIkdH"
      },
      "source": [
        "# Count Action: Count the number of records\n"
      ]
    },
    {
      "cell_type": "code",
      "execution_count": null,
      "id": "ODWWjhVkGEda",
      "metadata": {
        "colab": {
          "base_uri": "https://localhost:8080/"
        },
        "id": "ODWWjhVkGEda",
        "outputId": "1f3d0f31-e5e4-410f-e7e9-0e2b65684844"
      },
      "outputs": [
        {
          "name": "stdout",
          "output_type": "stream",
          "text": [
            "Total Count of Records: 8\n"
          ]
        }
      ],
      "source": [
        "total_count = call_rdd.count()\n",
        "print(\"Total Count of Records:\", total_count)"
      ]
    },
    {
      "cell_type": "code",
      "execution_count": null,
      "id": "fNd8C85wGEbA",
      "metadata": {
        "colab": {
          "base_uri": "https://localhost:8080/"
        },
        "id": "fNd8C85wGEbA",
        "outputId": "ccab251a-4fb2-4f60-c643-b4633bc9e810"
      },
      "outputs": [
        {
          "name": "stdout",
          "output_type": "stream",
          "text": [
            "Total Unique Users: 5\n"
          ]
        }
      ],
      "source": [
        "# Example 1: Count distinct user IDs\n",
        "total_users = unique_user_ids.count()\n",
        "print(\"Total Unique Users:\", total_users)"
      ]
    },
    {
      "cell_type": "code",
      "execution_count": null,
      "id": "XSCrPxh6GVEg",
      "metadata": {
        "colab": {
          "base_uri": "https://localhost:8080/"
        },
        "id": "XSCrPxh6GVEg",
        "outputId": "b9b3fc1f-5584-4d21-a726-51f6b8c751d9"
      },
      "outputs": [
        {
          "name": "stdout",
          "output_type": "stream",
          "text": [
            "Incoming Call Count: 4\n"
          ]
        }
      ],
      "source": [
        "# Example 2: Count incoming calls\n",
        "incoming_call_count = incoming_calls.count()\n",
        "print(\"Incoming Call Count:\", incoming_call_count)"
      ]
    },
    {
      "cell_type": "code",
      "execution_count": null,
      "id": "j3Di4EC2GVBE",
      "metadata": {
        "colab": {
          "base_uri": "https://localhost:8080/"
        },
        "id": "j3Di4EC2GVBE",
        "outputId": "126d9942-d58e-453c-d1f1-13c355a4269b"
      },
      "outputs": [
        {
          "name": "stdout",
          "output_type": "stream",
          "text": [
            "Outgoing Call Count: 4\n"
          ]
        }
      ],
      "source": [
        "# Example 3: Count outgoing calls\n",
        "outgoing_call_count = outgoing_calls.count()\n",
        "print(\"Outgoing Call Count:\", outgoing_call_count)"
      ]
    },
    {
      "cell_type": "markdown",
      "id": "DZUSUzDGInvP",
      "metadata": {
        "id": "DZUSUzDGInvP"
      },
      "source": [
        "# Take Action: Fetch the first few records"
      ]
    },
    {
      "cell_type": "code",
      "execution_count": null,
      "id": "PFU8Iy0TGU-3",
      "metadata": {
        "colab": {
          "base_uri": "https://localhost:8080/"
        },
        "id": "PFU8Iy0TGU-3",
        "outputId": "5f11e0f8-a661-4c0b-bbd3-6b241e9a4520"
      },
      "outputs": [
        {
          "name": "stdout",
          "output_type": "stream",
          "text": [
            "First Two Records: [('user1', '2024-12-19', 'IN', 5), ('user2', '2024-12-19', 'OUT', 15)]\n"
          ]
        }
      ],
      "source": [
        "first_two_records = call_rdd.take(2)\n",
        "print(\"First Two Records:\", first_two_records)"
      ]
    },
    {
      "cell_type": "code",
      "execution_count": null,
      "id": "_pNS8zq-GeUq",
      "metadata": {
        "colab": {
          "base_uri": "https://localhost:8080/"
        },
        "id": "_pNS8zq-GeUq",
        "outputId": "f6f9b443-8f32-4ec6-8e05-09fe76ecf129"
      },
      "outputs": [
        {
          "name": "stdout",
          "output_type": "stream",
          "text": [
            "First Three Records: [('user1', '2024-12-19', 'IN', 5), ('user2', '2024-12-19', 'OUT', 15), ('user3', '2024-12-19', 'IN', 7)]\n"
          ]
        }
      ],
      "source": [
        "# Example 1: Take the first three records\n",
        "first_three_records = call_rdd.take(3)\n",
        "print(\"First Three Records:\", first_three_records)"
      ]
    },
    {
      "cell_type": "code",
      "execution_count": null,
      "id": "n4X_vtvGGeRQ",
      "metadata": {
        "colab": {
          "base_uri": "https://localhost:8080/"
        },
        "id": "n4X_vtvGGeRQ",
        "outputId": "27b7d36b-73bd-4d67-b015-7b21122e668e"
      },
      "outputs": [
        {
          "name": "stdout",
          "output_type": "stream",
          "text": [
            "First Four Unique User IDs: ['user1', 'user2', 'user4', 'user5']\n"
          ]
        }
      ],
      "source": [
        "# Example 2: Take the first four distinct user IDs\n",
        "first_four_users = unique_user_ids.take(4)\n",
        "print(\"First Four Unique User IDs:\", first_four_users)"
      ]
    },
    {
      "cell_type": "markdown",
      "id": "oQF8UibAPN1w",
      "metadata": {
        "id": "oQF8UibAPN1w"
      },
      "source": [
        "## Case Study - Identification of Gold plan customers\n",
        "\n",
        " Identify users with \"Gold\" plan who have made more than 10 minutes of outgoing calls in December 2024.\n",
        "\n",
        "  This could help understand usage patterns of specific customer segments.\n",
        "\n",
        "\n",
        "\n",
        "\n",
        "```\n",
        "\n",
        "# Sample Telecom Data (Call Records and User Data)\n",
        "call_data = [\n",
        "    (\"user1\", \"2024-12-19\", \"IN\", 5, \"A\"),  # Added plan type\n",
        "    (\"user2\", \"2024-12-19\", \"OUT\", 15, \"B\"),\n",
        "    (\"user3\", \"2024-12-19\", \"IN\", 7, \"A\"),\n",
        "    (\"user1\", \"2024-12-20\", \"OUT\", 20, \"A\"),\n",
        "    (\"user2\", \"2024-12-20\", \"IN\", 10, \"B\"),\n",
        "    (\"user3\", \"2024-12-20\", \"OUT\", 30, \"C\"),\n",
        "    (\"user4\", \"2024-12-20\", \"IN\", 12, \"A\"),\n",
        "    (\"user5\", \"2024-12-19\", \"OUT\", 25, \"B\")\n",
        "]\n",
        "\n",
        "user_data = [\n",
        "    (\"user1\", \"Silver\", 25),\n",
        "    (\"user2\", \"Gold\", 40),\n",
        "    (\"user3\", \"Silver\", 30),\n",
        "    (\"user4\", \"Platinum\", 55),\n",
        "    (\"user5\", \"Gold\", 35)\n",
        "]\n",
        "\n",
        "```\n",
        "\n"
      ]
    },
    {
      "cell_type": "code",
      "execution_count": null,
      "id": "cuk1DsV1Pbhh",
      "metadata": {
        "id": "cuk1DsV1Pbhh"
      },
      "outputs": [],
      "source": [
        "\n",
        "call_data = [\n",
        "    (\"user1\", \"2024-12-19\", \"IN\", 5, \"A\"),  # Added plan type\n",
        "    (\"user2\", \"2024-12-19\", \"OUT\", 15, \"B\"),\n",
        "    (\"user3\", \"2024-12-19\", \"IN\", 7, \"A\"),\n",
        "    (\"user1\", \"2024-12-20\", \"OUT\", 20, \"A\"),\n",
        "    (\"user2\", \"2024-12-20\", \"IN\", 10, \"B\"),\n",
        "    (\"user3\", \"2024-12-20\", \"OUT\", 30, \"C\"),\n",
        "    (\"user4\", \"2024-12-20\", \"IN\", 12, \"A\"),\n",
        "    (\"user5\", \"2024-12-19\", \"OUT\", 25, \"B\")\n",
        "]\n",
        "\n",
        "user_data = [\n",
        "    (\"user1\", \"Silver\", 25),\n",
        "    (\"user2\", \"Gold\", 40),\n",
        "    (\"user3\", \"Silver\", 30),\n",
        "    (\"user4\", \"Platinum\", 55),\n",
        "    (\"user5\", \"Gold\", 35)\n",
        "]\n"
      ]
    },
    {
      "cell_type": "code",
      "execution_count": null,
      "id": "d07_S_XyPeFu",
      "metadata": {
        "id": "d07_S_XyPeFu"
      },
      "outputs": [],
      "source": [
        "# Create RDDs\n",
        "call_rdd = sc.parallelize(call_data)\n",
        "user_rdd = sc.parallelize(user_data)"
      ]
    },
    {
      "cell_type": "code",
      "execution_count": null,
      "id": "9SCx01ayO4JN",
      "metadata": {
        "colab": {
          "base_uri": "https://localhost:8080/"
        },
        "id": "9SCx01ayO4JN",
        "outputId": "72c17436-a674-45f3-ce6e-fba0cbaccc26"
      },
      "outputs": [
        {
          "name": "stdout",
          "output_type": "stream",
          "text": [
            "Joined RDD: [('user1', (('user1', '2024-12-19', 'IN', 5, 'A'), ('user1', 'Silver', 25))), ('user1', (('user1', '2024-12-20', 'OUT', 20, 'A'), ('user1', 'Silver', 25))), ('user4', (('user4', '2024-12-20', 'IN', 12, 'A'), ('user4', 'Platinum', 55))), ('user5', (('user5', '2024-12-19', 'OUT', 25, 'B'), ('user5', 'Gold', 35))), ('user2', (('user2', '2024-12-19', 'OUT', 15, 'B'), ('user2', 'Gold', 40))), ('user2', (('user2', '2024-12-20', 'IN', 10, 'B'), ('user2', 'Gold', 40))), ('user3', (('user3', '2024-12-19', 'IN', 7, 'A'), ('user3', 'Silver', 30))), ('user3', (('user3', '2024-12-20', 'OUT', 30, 'C'), ('user3', 'Silver', 30)))]\n"
          ]
        }
      ],
      "source": [
        "# Additional analysis could leverage join operations.\n",
        "# Example: Join call data with user data to get more insights into the users with long calls\n",
        "joined_rdd = call_rdd.map(lambda x: (x[0], x)).join(user_rdd.map(lambda x: (x[0], x)))\n",
        "print(\"Joined RDD:\", joined_rdd.collect())"
      ]
    },
    {
      "cell_type": "code",
      "execution_count": null,
      "id": "oKvH560JPFcE",
      "metadata": {
        "id": "oKvH560JPFcE"
      },
      "outputs": [],
      "source": [
        "#Additional follow up questions\n",
        "\n",
        "# 1. Filter for Gold plan users\n",
        "gold_users_rdd = user_rdd.filter(lambda x: x[1] == \"Gold\")\n",
        "\n",
        "# 2. Extract user IDs from the gold users RDD\n",
        "gold_user_ids = gold_users_rdd.map(lambda x: x[0])"
      ]
    },
    {
      "cell_type": "code",
      "execution_count": null,
      "id": "dSQz_zkbPJzn",
      "metadata": {
        "id": "dSQz_zkbPJzn"
      },
      "outputs": [],
      "source": [
        "# 3. Filter for outgoing calls\n",
        "outgoing_calls_rdd = call_rdd.filter(lambda x: x[2] == \"OUT\")\n",
        "\n",
        "# 4. Filter for Gold users with more than 10-minute outgoing calls\n",
        "targeted_users_rdd = outgoing_calls_rdd.filter(lambda x: x[3] > 10).filter(lambda x : x[0] in gold_user_ids.collect())\n"
      ]
    },
    {
      "cell_type": "markdown",
      "id": "21b96a31",
      "metadata": {
        "id": "21b96a31"
      },
      "source": [
        "## Cleanup\n",
        "Always stop the SparkSession after completion of tasks."
      ]
    },
    {
      "cell_type": "code",
      "execution_count": null,
      "id": "880d45c3",
      "metadata": {
        "id": "880d45c3"
      },
      "outputs": [],
      "source": [
        "sc.stop()"
      ]
    }
  ],
  "metadata": {
    "colab": {
      "provenance": []
    },
    "kernelspec": {
      "display_name": "Python 3",
      "name": "python3"
    },
    "language_info": {
      "name": "python"
    }
  },
  "nbformat": 4,
  "nbformat_minor": 5
}
